{
 "cells": [
  {
   "cell_type": "markdown",
   "id": "61df2f74-124c-4aa0-a589-a6d05d35c57b",
   "metadata": {},
   "source": [
    "# Fetch Rewards Coding Exercise - Data Analyst"
   ]
  },
  {
   "cell_type": "code",
   "execution_count": 83,
   "id": "3c9db7ed-7f0b-4e24-bded-c7ef21621be4",
   "metadata": {},
   "outputs": [],
   "source": [
    "import pandas as pd\n",
    "from ast import literal_eval\n",
    "import json\n",
    "import datetime\n",
    "from sqlalchemy import create_engine\n",
    "import sklearn\n",
    "import matplotlib.pyplot as plt\n",
    "import seaborn as sns"
   ]
  },
  {
   "cell_type": "markdown",
   "id": "b6f00001-b0d4-41db-a9ff-ef7ee9fa4c5a",
   "metadata": {},
   "source": [
    "## Read in Data\n",
    "Read in Receipts, Brands and Users data"
   ]
  },
  {
   "cell_type": "code",
   "execution_count": 84,
   "id": "3147f5ae-73dc-4c6b-b003-38f9d5ae42f7",
   "metadata": {},
   "outputs": [],
   "source": [
    "receipts = pd.read_json('receipts.json',lines=True)"
   ]
  },
  {
   "cell_type": "code",
   "execution_count": 85,
   "id": "16ba6d4c-ab59-4385-aae4-26df2353b628",
   "metadata": {},
   "outputs": [],
   "source": [
    "#receipt\n",
    "receipts = receipts.fillna({'rewardsReceiptItemList': '{}', 'finishedDate': '{}', 'pointsAwardedDate': '{}', 'purchaseDate': '{}'})"
   ]
  },
  {
   "cell_type": "code",
   "execution_count": 86,
   "id": "ce41634c-6fe8-4660-ac44-291d8acf76ad",
   "metadata": {},
   "outputs": [
    {
     "data": {
      "text/html": [
       "<div>\n",
       "<style scoped>\n",
       "    .dataframe tbody tr th:only-of-type {\n",
       "        vertical-align: middle;\n",
       "    }\n",
       "\n",
       "    .dataframe tbody tr th {\n",
       "        vertical-align: top;\n",
       "    }\n",
       "\n",
       "    .dataframe thead th {\n",
       "        text-align: right;\n",
       "    }\n",
       "</style>\n",
       "<table border=\"1\" class=\"dataframe\">\n",
       "  <thead>\n",
       "    <tr style=\"text-align: right;\">\n",
       "      <th></th>\n",
       "      <th>_id</th>\n",
       "      <th>bonusPointsEarned</th>\n",
       "      <th>bonusPointsEarnedReason</th>\n",
       "      <th>createDate</th>\n",
       "      <th>dateScanned</th>\n",
       "      <th>finishedDate</th>\n",
       "      <th>modifyDate</th>\n",
       "      <th>pointsAwardedDate</th>\n",
       "      <th>pointsEarned</th>\n",
       "      <th>purchaseDate</th>\n",
       "      <th>purchasedItemCount</th>\n",
       "      <th>rewardsReceiptItemList</th>\n",
       "      <th>rewardsReceiptStatus</th>\n",
       "      <th>totalSpent</th>\n",
       "      <th>userId</th>\n",
       "    </tr>\n",
       "  </thead>\n",
       "  <tbody>\n",
       "    <tr>\n",
       "      <th>0</th>\n",
       "      <td>{'$oid': '5ff1e1eb0a720f0523000575'}</td>\n",
       "      <td>500.0</td>\n",
       "      <td>Receipt number 2 completed, bonus point schedu...</td>\n",
       "      <td>{'$date': 1609687531000}</td>\n",
       "      <td>{'$date': 1609687531000}</td>\n",
       "      <td>{'$date': 1609687531000}</td>\n",
       "      <td>{'$date': 1609687536000}</td>\n",
       "      <td>{'$date': 1609687531000}</td>\n",
       "      <td>500.0</td>\n",
       "      <td>{'$date': 1609632000000}</td>\n",
       "      <td>5.0</td>\n",
       "      <td>[{'barcode': '4011', 'description': 'ITEM NOT ...</td>\n",
       "      <td>FINISHED</td>\n",
       "      <td>26.00</td>\n",
       "      <td>5ff1e1eacfcf6c399c274ae6</td>\n",
       "    </tr>\n",
       "    <tr>\n",
       "      <th>1</th>\n",
       "      <td>{'$oid': '5ff1e1bb0a720f052300056b'}</td>\n",
       "      <td>150.0</td>\n",
       "      <td>Receipt number 5 completed, bonus point schedu...</td>\n",
       "      <td>{'$date': 1609687483000}</td>\n",
       "      <td>{'$date': 1609687483000}</td>\n",
       "      <td>{'$date': 1609687483000}</td>\n",
       "      <td>{'$date': 1609687488000}</td>\n",
       "      <td>{'$date': 1609687483000}</td>\n",
       "      <td>150.0</td>\n",
       "      <td>{'$date': 1609601083000}</td>\n",
       "      <td>2.0</td>\n",
       "      <td>[{'barcode': '4011', 'description': 'ITEM NOT ...</td>\n",
       "      <td>FINISHED</td>\n",
       "      <td>11.00</td>\n",
       "      <td>5ff1e194b6a9d73a3a9f1052</td>\n",
       "    </tr>\n",
       "    <tr>\n",
       "      <th>2</th>\n",
       "      <td>{'$oid': '5ff1e1f10a720f052300057a'}</td>\n",
       "      <td>5.0</td>\n",
       "      <td>All-receipts receipt bonus</td>\n",
       "      <td>{'$date': 1609687537000}</td>\n",
       "      <td>{'$date': 1609687537000}</td>\n",
       "      <td>{}</td>\n",
       "      <td>{'$date': 1609687542000}</td>\n",
       "      <td>{}</td>\n",
       "      <td>5.0</td>\n",
       "      <td>{'$date': 1609632000000}</td>\n",
       "      <td>1.0</td>\n",
       "      <td>[{'needsFetchReview': False, 'partnerItemId': ...</td>\n",
       "      <td>REJECTED</td>\n",
       "      <td>10.00</td>\n",
       "      <td>5ff1e1f1cfcf6c399c274b0b</td>\n",
       "    </tr>\n",
       "    <tr>\n",
       "      <th>3</th>\n",
       "      <td>{'$oid': '5ff1e1ee0a7214ada100056f'}</td>\n",
       "      <td>5.0</td>\n",
       "      <td>All-receipts receipt bonus</td>\n",
       "      <td>{'$date': 1609687534000}</td>\n",
       "      <td>{'$date': 1609687534000}</td>\n",
       "      <td>{'$date': 1609687534000}</td>\n",
       "      <td>{'$date': 1609687539000}</td>\n",
       "      <td>{'$date': 1609687534000}</td>\n",
       "      <td>5.0</td>\n",
       "      <td>{'$date': 1609632000000}</td>\n",
       "      <td>4.0</td>\n",
       "      <td>[{'barcode': '4011', 'description': 'ITEM NOT ...</td>\n",
       "      <td>FINISHED</td>\n",
       "      <td>28.00</td>\n",
       "      <td>5ff1e1eacfcf6c399c274ae6</td>\n",
       "    </tr>\n",
       "    <tr>\n",
       "      <th>4</th>\n",
       "      <td>{'$oid': '5ff1e1d20a7214ada1000561'}</td>\n",
       "      <td>5.0</td>\n",
       "      <td>All-receipts receipt bonus</td>\n",
       "      <td>{'$date': 1609687506000}</td>\n",
       "      <td>{'$date': 1609687506000}</td>\n",
       "      <td>{'$date': 1609687511000}</td>\n",
       "      <td>{'$date': 1609687511000}</td>\n",
       "      <td>{'$date': 1609687506000}</td>\n",
       "      <td>5.0</td>\n",
       "      <td>{'$date': 1609601106000}</td>\n",
       "      <td>2.0</td>\n",
       "      <td>[{'barcode': '4011', 'description': 'ITEM NOT ...</td>\n",
       "      <td>FINISHED</td>\n",
       "      <td>1.00</td>\n",
       "      <td>5ff1e194b6a9d73a3a9f1052</td>\n",
       "    </tr>\n",
       "    <tr>\n",
       "      <th>...</th>\n",
       "      <td>...</td>\n",
       "      <td>...</td>\n",
       "      <td>...</td>\n",
       "      <td>...</td>\n",
       "      <td>...</td>\n",
       "      <td>...</td>\n",
       "      <td>...</td>\n",
       "      <td>...</td>\n",
       "      <td>...</td>\n",
       "      <td>...</td>\n",
       "      <td>...</td>\n",
       "      <td>...</td>\n",
       "      <td>...</td>\n",
       "      <td>...</td>\n",
       "      <td>...</td>\n",
       "    </tr>\n",
       "    <tr>\n",
       "      <th>1114</th>\n",
       "      <td>{'$oid': '603cc0630a720fde100003e6'}</td>\n",
       "      <td>25.0</td>\n",
       "      <td>COMPLETE_NONPARTNER_RECEIPT</td>\n",
       "      <td>{'$date': 1614594147000}</td>\n",
       "      <td>{'$date': 1614594147000}</td>\n",
       "      <td>{}</td>\n",
       "      <td>{'$date': 1614594148000}</td>\n",
       "      <td>{}</td>\n",
       "      <td>25.0</td>\n",
       "      <td>{'$date': 1597622400000}</td>\n",
       "      <td>2.0</td>\n",
       "      <td>[{'barcode': 'B076FJ92M4', 'description': 'mue...</td>\n",
       "      <td>REJECTED</td>\n",
       "      <td>34.96</td>\n",
       "      <td>5fc961c3b8cfca11a077dd33</td>\n",
       "    </tr>\n",
       "    <tr>\n",
       "      <th>1115</th>\n",
       "      <td>{'$oid': '603d0b710a720fde1000042a'}</td>\n",
       "      <td>NaN</td>\n",
       "      <td>NaN</td>\n",
       "      <td>{'$date': 1614613361873}</td>\n",
       "      <td>{'$date': 1614613361873}</td>\n",
       "      <td>{}</td>\n",
       "      <td>{'$date': 1614613361873}</td>\n",
       "      <td>{}</td>\n",
       "      <td>NaN</td>\n",
       "      <td>{}</td>\n",
       "      <td>NaN</td>\n",
       "      <td>{}</td>\n",
       "      <td>SUBMITTED</td>\n",
       "      <td>NaN</td>\n",
       "      <td>5fc961c3b8cfca11a077dd33</td>\n",
       "    </tr>\n",
       "    <tr>\n",
       "      <th>1116</th>\n",
       "      <td>{'$oid': '603cf5290a720fde10000413'}</td>\n",
       "      <td>NaN</td>\n",
       "      <td>NaN</td>\n",
       "      <td>{'$date': 1614607657664}</td>\n",
       "      <td>{'$date': 1614607657664}</td>\n",
       "      <td>{}</td>\n",
       "      <td>{'$date': 1614607657664}</td>\n",
       "      <td>{}</td>\n",
       "      <td>NaN</td>\n",
       "      <td>{}</td>\n",
       "      <td>NaN</td>\n",
       "      <td>{}</td>\n",
       "      <td>SUBMITTED</td>\n",
       "      <td>NaN</td>\n",
       "      <td>5fc961c3b8cfca11a077dd33</td>\n",
       "    </tr>\n",
       "    <tr>\n",
       "      <th>1117</th>\n",
       "      <td>{'$oid': '603ce7100a7217c72c000405'}</td>\n",
       "      <td>25.0</td>\n",
       "      <td>COMPLETE_NONPARTNER_RECEIPT</td>\n",
       "      <td>{'$date': 1614604048000}</td>\n",
       "      <td>{'$date': 1614604048000}</td>\n",
       "      <td>{}</td>\n",
       "      <td>{'$date': 1614604049000}</td>\n",
       "      <td>{}</td>\n",
       "      <td>25.0</td>\n",
       "      <td>{'$date': 1597622400000}</td>\n",
       "      <td>2.0</td>\n",
       "      <td>[{'barcode': 'B076FJ92M4', 'description': 'mue...</td>\n",
       "      <td>REJECTED</td>\n",
       "      <td>34.96</td>\n",
       "      <td>5fc961c3b8cfca11a077dd33</td>\n",
       "    </tr>\n",
       "    <tr>\n",
       "      <th>1118</th>\n",
       "      <td>{'$oid': '603c4fea0a7217c72c000389'}</td>\n",
       "      <td>NaN</td>\n",
       "      <td>NaN</td>\n",
       "      <td>{'$date': 1614565354962}</td>\n",
       "      <td>{'$date': 1614565354962}</td>\n",
       "      <td>{}</td>\n",
       "      <td>{'$date': 1614565354962}</td>\n",
       "      <td>{}</td>\n",
       "      <td>NaN</td>\n",
       "      <td>{}</td>\n",
       "      <td>NaN</td>\n",
       "      <td>{}</td>\n",
       "      <td>SUBMITTED</td>\n",
       "      <td>NaN</td>\n",
       "      <td>5fc961c3b8cfca11a077dd33</td>\n",
       "    </tr>\n",
       "  </tbody>\n",
       "</table>\n",
       "<p>1119 rows × 15 columns</p>\n",
       "</div>"
      ],
      "text/plain": [
       "                                       _id  bonusPointsEarned  \\\n",
       "0     {'$oid': '5ff1e1eb0a720f0523000575'}              500.0   \n",
       "1     {'$oid': '5ff1e1bb0a720f052300056b'}              150.0   \n",
       "2     {'$oid': '5ff1e1f10a720f052300057a'}                5.0   \n",
       "3     {'$oid': '5ff1e1ee0a7214ada100056f'}                5.0   \n",
       "4     {'$oid': '5ff1e1d20a7214ada1000561'}                5.0   \n",
       "...                                    ...                ...   \n",
       "1114  {'$oid': '603cc0630a720fde100003e6'}               25.0   \n",
       "1115  {'$oid': '603d0b710a720fde1000042a'}                NaN   \n",
       "1116  {'$oid': '603cf5290a720fde10000413'}                NaN   \n",
       "1117  {'$oid': '603ce7100a7217c72c000405'}               25.0   \n",
       "1118  {'$oid': '603c4fea0a7217c72c000389'}                NaN   \n",
       "\n",
       "                                bonusPointsEarnedReason  \\\n",
       "0     Receipt number 2 completed, bonus point schedu...   \n",
       "1     Receipt number 5 completed, bonus point schedu...   \n",
       "2                            All-receipts receipt bonus   \n",
       "3                            All-receipts receipt bonus   \n",
       "4                            All-receipts receipt bonus   \n",
       "...                                                 ...   \n",
       "1114                        COMPLETE_NONPARTNER_RECEIPT   \n",
       "1115                                                NaN   \n",
       "1116                                                NaN   \n",
       "1117                        COMPLETE_NONPARTNER_RECEIPT   \n",
       "1118                                                NaN   \n",
       "\n",
       "                    createDate               dateScanned  \\\n",
       "0     {'$date': 1609687531000}  {'$date': 1609687531000}   \n",
       "1     {'$date': 1609687483000}  {'$date': 1609687483000}   \n",
       "2     {'$date': 1609687537000}  {'$date': 1609687537000}   \n",
       "3     {'$date': 1609687534000}  {'$date': 1609687534000}   \n",
       "4     {'$date': 1609687506000}  {'$date': 1609687506000}   \n",
       "...                        ...                       ...   \n",
       "1114  {'$date': 1614594147000}  {'$date': 1614594147000}   \n",
       "1115  {'$date': 1614613361873}  {'$date': 1614613361873}   \n",
       "1116  {'$date': 1614607657664}  {'$date': 1614607657664}   \n",
       "1117  {'$date': 1614604048000}  {'$date': 1614604048000}   \n",
       "1118  {'$date': 1614565354962}  {'$date': 1614565354962}   \n",
       "\n",
       "                  finishedDate                modifyDate  \\\n",
       "0     {'$date': 1609687531000}  {'$date': 1609687536000}   \n",
       "1     {'$date': 1609687483000}  {'$date': 1609687488000}   \n",
       "2                           {}  {'$date': 1609687542000}   \n",
       "3     {'$date': 1609687534000}  {'$date': 1609687539000}   \n",
       "4     {'$date': 1609687511000}  {'$date': 1609687511000}   \n",
       "...                        ...                       ...   \n",
       "1114                        {}  {'$date': 1614594148000}   \n",
       "1115                        {}  {'$date': 1614613361873}   \n",
       "1116                        {}  {'$date': 1614607657664}   \n",
       "1117                        {}  {'$date': 1614604049000}   \n",
       "1118                        {}  {'$date': 1614565354962}   \n",
       "\n",
       "             pointsAwardedDate  pointsEarned              purchaseDate  \\\n",
       "0     {'$date': 1609687531000}         500.0  {'$date': 1609632000000}   \n",
       "1     {'$date': 1609687483000}         150.0  {'$date': 1609601083000}   \n",
       "2                           {}           5.0  {'$date': 1609632000000}   \n",
       "3     {'$date': 1609687534000}           5.0  {'$date': 1609632000000}   \n",
       "4     {'$date': 1609687506000}           5.0  {'$date': 1609601106000}   \n",
       "...                        ...           ...                       ...   \n",
       "1114                        {}          25.0  {'$date': 1597622400000}   \n",
       "1115                        {}           NaN                        {}   \n",
       "1116                        {}           NaN                        {}   \n",
       "1117                        {}          25.0  {'$date': 1597622400000}   \n",
       "1118                        {}           NaN                        {}   \n",
       "\n",
       "      purchasedItemCount                             rewardsReceiptItemList  \\\n",
       "0                    5.0  [{'barcode': '4011', 'description': 'ITEM NOT ...   \n",
       "1                    2.0  [{'barcode': '4011', 'description': 'ITEM NOT ...   \n",
       "2                    1.0  [{'needsFetchReview': False, 'partnerItemId': ...   \n",
       "3                    4.0  [{'barcode': '4011', 'description': 'ITEM NOT ...   \n",
       "4                    2.0  [{'barcode': '4011', 'description': 'ITEM NOT ...   \n",
       "...                  ...                                                ...   \n",
       "1114                 2.0  [{'barcode': 'B076FJ92M4', 'description': 'mue...   \n",
       "1115                 NaN                                                 {}   \n",
       "1116                 NaN                                                 {}   \n",
       "1117                 2.0  [{'barcode': 'B076FJ92M4', 'description': 'mue...   \n",
       "1118                 NaN                                                 {}   \n",
       "\n",
       "     rewardsReceiptStatus  totalSpent                    userId  \n",
       "0                FINISHED       26.00  5ff1e1eacfcf6c399c274ae6  \n",
       "1                FINISHED       11.00  5ff1e194b6a9d73a3a9f1052  \n",
       "2                REJECTED       10.00  5ff1e1f1cfcf6c399c274b0b  \n",
       "3                FINISHED       28.00  5ff1e1eacfcf6c399c274ae6  \n",
       "4                FINISHED        1.00  5ff1e194b6a9d73a3a9f1052  \n",
       "...                   ...         ...                       ...  \n",
       "1114             REJECTED       34.96  5fc961c3b8cfca11a077dd33  \n",
       "1115            SUBMITTED         NaN  5fc961c3b8cfca11a077dd33  \n",
       "1116            SUBMITTED         NaN  5fc961c3b8cfca11a077dd33  \n",
       "1117             REJECTED       34.96  5fc961c3b8cfca11a077dd33  \n",
       "1118            SUBMITTED         NaN  5fc961c3b8cfca11a077dd33  \n",
       "\n",
       "[1119 rows x 15 columns]"
      ]
     },
     "execution_count": 86,
     "metadata": {},
     "output_type": "execute_result"
    }
   ],
   "source": [
    "receipts"
   ]
  },
  {
   "cell_type": "code",
   "execution_count": 87,
   "id": "d8bf4f65-543a-471d-ab36-0860f5fee63b",
   "metadata": {},
   "outputs": [],
   "source": [
    "#functions for data cleaning\n",
    "def clean_column_keep_dic_value(df, col, key):  \n",
    "    all_list=[]\n",
    "    for i in range(len(df)):\n",
    "        if df[col].iloc[i] == '{}': \n",
    "            all_list.append('')\n",
    "        else: \n",
    "            all_list.append(df[col].iloc[i][key])\n",
    "    return all_list\n",
    "\n",
    "def convert_time(df, col):\n",
    "    time_list = []\n",
    "    for i in range(len(df)):\n",
    "        if df[col].iloc[i] == '{}': \n",
    "            time_list.append('')\n",
    "        else:\n",
    "            time_list.append(datetime.datetime.fromtimestamp(df[col].iloc[i] / 1e3)) \n",
    "    return time_list"
   ]
  },
  {
   "cell_type": "code",
   "execution_count": 95,
   "id": "7bf6000e-5bc6-4f15-b5f8-fd161861aa59",
   "metadata": {},
   "outputs": [],
   "source": [
    "# time_list = []\n",
    "# for i in range(len(df)):\n",
    "#     if df[col].iloc[i] == '{}': \n",
    "#         time_list.append('')\n",
    "#     else:\n",
    "#         time_list.append(datetime.datetime.fromtimestamp(df[col].iloc[i] / 1e3)) "
   ]
  },
  {
   "cell_type": "code",
   "execution_count": 96,
   "id": "9fee93b5-0993-4c18-b180-8bfdf4984365",
   "metadata": {},
   "outputs": [],
   "source": [
    "# datetime.datetime.fromtimestamp(receipts['finishedDate'].iloc[2] / 1e3)"
   ]
  },
  {
   "cell_type": "code",
   "execution_count": 97,
   "id": "aa9b8e2f-dc69-44dc-9fec-cd582c6dea83",
   "metadata": {},
   "outputs": [],
   "source": [
    "# receipts['finishedDate'].iloc[2]"
   ]
  },
  {
   "cell_type": "code",
   "execution_count": null,
   "id": "01ca6aa1-5e2a-41ac-8044-651c46302f7f",
   "metadata": {},
   "outputs": [],
   "source": []
  },
  {
   "cell_type": "code",
   "execution_count": null,
   "id": "8eea34cc-5665-4226-9e9b-04d92a2d44d2",
   "metadata": {},
   "outputs": [],
   "source": []
  },
  {
   "cell_type": "code",
   "execution_count": null,
   "id": "26c2cd89-1805-4097-a812-407da22955a0",
   "metadata": {},
   "outputs": [],
   "source": []
  },
  {
   "cell_type": "code",
   "execution_count": null,
   "id": "cdb92451-7e0b-420c-8d01-7796299190e8",
   "metadata": {},
   "outputs": [],
   "source": []
  },
  {
   "cell_type": "code",
   "execution_count": 91,
   "id": "8c022d72-179b-43db-9230-e31664144121",
   "metadata": {},
   "outputs": [],
   "source": [
    "#Remove unnecessary words and clean data\n",
    "receipts['_id'] = clean_column_keep_dic_value(receipts, '_id', '$oid')\n",
    "receipts['createDate'] = clean_column_keep_dic_value(receipts, 'createDate', '$date')\n",
    "receipts['dateScanned'] = clean_column_keep_dic_value(receipts, 'dateScanned', '$date')\n",
    "receipts['modifyDate'] = clean_column_keep_dic_value(receipts, 'modifyDate', '$date')\n",
    "receipts['finishedDate'] = clean_column_keep_dic_value(receipts, 'finishedDate', '$date')\n",
    "receipts['pointsAwardedDate'] = clean_column_keep_dic_value(receipts, 'pointsAwardedDate', '$date')\n",
    "receipts['purchaseDate'] = clean_column_keep_dic_value(receipts, 'purchaseDate', '$date')"
   ]
  },
  {
   "cell_type": "code",
   "execution_count": 92,
   "id": "d6d45ae0-6420-4daa-b58b-e2bbb22ffef6",
   "metadata": {},
   "outputs": [
    {
     "data": {
      "text/plain": [
       "_id                          0\n",
       "bonusPointsEarned          575\n",
       "bonusPointsEarnedReason    575\n",
       "createDate                   0\n",
       "dateScanned                  0\n",
       "finishedDate                 0\n",
       "modifyDate                   0\n",
       "pointsAwardedDate            0\n",
       "pointsEarned               510\n",
       "purchaseDate                 0\n",
       "purchasedItemCount         484\n",
       "rewardsReceiptItemList       0\n",
       "rewardsReceiptStatus         0\n",
       "totalSpent                 435\n",
       "userId                       0\n",
       "dtype: int64"
      ]
     },
     "execution_count": 92,
     "metadata": {},
     "output_type": "execute_result"
    }
   ],
   "source": [
    "receipts.isna().sum()"
   ]
  },
  {
   "cell_type": "code",
   "execution_count": 93,
   "id": "aa57b9f3-136f-43f9-9768-767bbd0eebca",
   "metadata": {},
   "outputs": [
    {
     "data": {
      "text/html": [
       "<div>\n",
       "<style scoped>\n",
       "    .dataframe tbody tr th:only-of-type {\n",
       "        vertical-align: middle;\n",
       "    }\n",
       "\n",
       "    .dataframe tbody tr th {\n",
       "        vertical-align: top;\n",
       "    }\n",
       "\n",
       "    .dataframe thead th {\n",
       "        text-align: right;\n",
       "    }\n",
       "</style>\n",
       "<table border=\"1\" class=\"dataframe\">\n",
       "  <thead>\n",
       "    <tr style=\"text-align: right;\">\n",
       "      <th></th>\n",
       "      <th>_id</th>\n",
       "      <th>bonusPointsEarned</th>\n",
       "      <th>bonusPointsEarnedReason</th>\n",
       "      <th>createDate</th>\n",
       "      <th>dateScanned</th>\n",
       "      <th>finishedDate</th>\n",
       "      <th>modifyDate</th>\n",
       "      <th>pointsAwardedDate</th>\n",
       "      <th>pointsEarned</th>\n",
       "      <th>purchaseDate</th>\n",
       "      <th>purchasedItemCount</th>\n",
       "      <th>rewardsReceiptItemList</th>\n",
       "      <th>rewardsReceiptStatus</th>\n",
       "      <th>totalSpent</th>\n",
       "      <th>userId</th>\n",
       "    </tr>\n",
       "  </thead>\n",
       "  <tbody>\n",
       "    <tr>\n",
       "      <th>0</th>\n",
       "      <td>5ff1e1eb0a720f0523000575</td>\n",
       "      <td>500.0</td>\n",
       "      <td>Receipt number 2 completed, bonus point schedu...</td>\n",
       "      <td>1609687531000</td>\n",
       "      <td>1609687531000</td>\n",
       "      <td>1609687531000</td>\n",
       "      <td>1609687536000</td>\n",
       "      <td>1609687531000</td>\n",
       "      <td>500.0</td>\n",
       "      <td>1609632000000</td>\n",
       "      <td>5.0</td>\n",
       "      <td>[{'barcode': '4011', 'description': 'ITEM NOT ...</td>\n",
       "      <td>FINISHED</td>\n",
       "      <td>26.00</td>\n",
       "      <td>5ff1e1eacfcf6c399c274ae6</td>\n",
       "    </tr>\n",
       "    <tr>\n",
       "      <th>1</th>\n",
       "      <td>5ff1e1bb0a720f052300056b</td>\n",
       "      <td>150.0</td>\n",
       "      <td>Receipt number 5 completed, bonus point schedu...</td>\n",
       "      <td>1609687483000</td>\n",
       "      <td>1609687483000</td>\n",
       "      <td>1609687483000</td>\n",
       "      <td>1609687488000</td>\n",
       "      <td>1609687483000</td>\n",
       "      <td>150.0</td>\n",
       "      <td>1609601083000</td>\n",
       "      <td>2.0</td>\n",
       "      <td>[{'barcode': '4011', 'description': 'ITEM NOT ...</td>\n",
       "      <td>FINISHED</td>\n",
       "      <td>11.00</td>\n",
       "      <td>5ff1e194b6a9d73a3a9f1052</td>\n",
       "    </tr>\n",
       "    <tr>\n",
       "      <th>2</th>\n",
       "      <td>5ff1e1f10a720f052300057a</td>\n",
       "      <td>5.0</td>\n",
       "      <td>All-receipts receipt bonus</td>\n",
       "      <td>1609687537000</td>\n",
       "      <td>1609687537000</td>\n",
       "      <td></td>\n",
       "      <td>1609687542000</td>\n",
       "      <td></td>\n",
       "      <td>5.0</td>\n",
       "      <td>1609632000000</td>\n",
       "      <td>1.0</td>\n",
       "      <td>[{'needsFetchReview': False, 'partnerItemId': ...</td>\n",
       "      <td>REJECTED</td>\n",
       "      <td>10.00</td>\n",
       "      <td>5ff1e1f1cfcf6c399c274b0b</td>\n",
       "    </tr>\n",
       "    <tr>\n",
       "      <th>3</th>\n",
       "      <td>5ff1e1ee0a7214ada100056f</td>\n",
       "      <td>5.0</td>\n",
       "      <td>All-receipts receipt bonus</td>\n",
       "      <td>1609687534000</td>\n",
       "      <td>1609687534000</td>\n",
       "      <td>1609687534000</td>\n",
       "      <td>1609687539000</td>\n",
       "      <td>1609687534000</td>\n",
       "      <td>5.0</td>\n",
       "      <td>1609632000000</td>\n",
       "      <td>4.0</td>\n",
       "      <td>[{'barcode': '4011', 'description': 'ITEM NOT ...</td>\n",
       "      <td>FINISHED</td>\n",
       "      <td>28.00</td>\n",
       "      <td>5ff1e1eacfcf6c399c274ae6</td>\n",
       "    </tr>\n",
       "    <tr>\n",
       "      <th>4</th>\n",
       "      <td>5ff1e1d20a7214ada1000561</td>\n",
       "      <td>5.0</td>\n",
       "      <td>All-receipts receipt bonus</td>\n",
       "      <td>1609687506000</td>\n",
       "      <td>1609687506000</td>\n",
       "      <td>1609687511000</td>\n",
       "      <td>1609687511000</td>\n",
       "      <td>1609687506000</td>\n",
       "      <td>5.0</td>\n",
       "      <td>1609601106000</td>\n",
       "      <td>2.0</td>\n",
       "      <td>[{'barcode': '4011', 'description': 'ITEM NOT ...</td>\n",
       "      <td>FINISHED</td>\n",
       "      <td>1.00</td>\n",
       "      <td>5ff1e194b6a9d73a3a9f1052</td>\n",
       "    </tr>\n",
       "    <tr>\n",
       "      <th>...</th>\n",
       "      <td>...</td>\n",
       "      <td>...</td>\n",
       "      <td>...</td>\n",
       "      <td>...</td>\n",
       "      <td>...</td>\n",
       "      <td>...</td>\n",
       "      <td>...</td>\n",
       "      <td>...</td>\n",
       "      <td>...</td>\n",
       "      <td>...</td>\n",
       "      <td>...</td>\n",
       "      <td>...</td>\n",
       "      <td>...</td>\n",
       "      <td>...</td>\n",
       "      <td>...</td>\n",
       "    </tr>\n",
       "    <tr>\n",
       "      <th>1114</th>\n",
       "      <td>603cc0630a720fde100003e6</td>\n",
       "      <td>25.0</td>\n",
       "      <td>COMPLETE_NONPARTNER_RECEIPT</td>\n",
       "      <td>1614594147000</td>\n",
       "      <td>1614594147000</td>\n",
       "      <td></td>\n",
       "      <td>1614594148000</td>\n",
       "      <td></td>\n",
       "      <td>25.0</td>\n",
       "      <td>1597622400000</td>\n",
       "      <td>2.0</td>\n",
       "      <td>[{'barcode': 'B076FJ92M4', 'description': 'mue...</td>\n",
       "      <td>REJECTED</td>\n",
       "      <td>34.96</td>\n",
       "      <td>5fc961c3b8cfca11a077dd33</td>\n",
       "    </tr>\n",
       "    <tr>\n",
       "      <th>1115</th>\n",
       "      <td>603d0b710a720fde1000042a</td>\n",
       "      <td>NaN</td>\n",
       "      <td>NaN</td>\n",
       "      <td>1614613361873</td>\n",
       "      <td>1614613361873</td>\n",
       "      <td></td>\n",
       "      <td>1614613361873</td>\n",
       "      <td></td>\n",
       "      <td>NaN</td>\n",
       "      <td></td>\n",
       "      <td>NaN</td>\n",
       "      <td>{}</td>\n",
       "      <td>SUBMITTED</td>\n",
       "      <td>NaN</td>\n",
       "      <td>5fc961c3b8cfca11a077dd33</td>\n",
       "    </tr>\n",
       "    <tr>\n",
       "      <th>1116</th>\n",
       "      <td>603cf5290a720fde10000413</td>\n",
       "      <td>NaN</td>\n",
       "      <td>NaN</td>\n",
       "      <td>1614607657664</td>\n",
       "      <td>1614607657664</td>\n",
       "      <td></td>\n",
       "      <td>1614607657664</td>\n",
       "      <td></td>\n",
       "      <td>NaN</td>\n",
       "      <td></td>\n",
       "      <td>NaN</td>\n",
       "      <td>{}</td>\n",
       "      <td>SUBMITTED</td>\n",
       "      <td>NaN</td>\n",
       "      <td>5fc961c3b8cfca11a077dd33</td>\n",
       "    </tr>\n",
       "    <tr>\n",
       "      <th>1117</th>\n",
       "      <td>603ce7100a7217c72c000405</td>\n",
       "      <td>25.0</td>\n",
       "      <td>COMPLETE_NONPARTNER_RECEIPT</td>\n",
       "      <td>1614604048000</td>\n",
       "      <td>1614604048000</td>\n",
       "      <td></td>\n",
       "      <td>1614604049000</td>\n",
       "      <td></td>\n",
       "      <td>25.0</td>\n",
       "      <td>1597622400000</td>\n",
       "      <td>2.0</td>\n",
       "      <td>[{'barcode': 'B076FJ92M4', 'description': 'mue...</td>\n",
       "      <td>REJECTED</td>\n",
       "      <td>34.96</td>\n",
       "      <td>5fc961c3b8cfca11a077dd33</td>\n",
       "    </tr>\n",
       "    <tr>\n",
       "      <th>1118</th>\n",
       "      <td>603c4fea0a7217c72c000389</td>\n",
       "      <td>NaN</td>\n",
       "      <td>NaN</td>\n",
       "      <td>1614565354962</td>\n",
       "      <td>1614565354962</td>\n",
       "      <td></td>\n",
       "      <td>1614565354962</td>\n",
       "      <td></td>\n",
       "      <td>NaN</td>\n",
       "      <td></td>\n",
       "      <td>NaN</td>\n",
       "      <td>{}</td>\n",
       "      <td>SUBMITTED</td>\n",
       "      <td>NaN</td>\n",
       "      <td>5fc961c3b8cfca11a077dd33</td>\n",
       "    </tr>\n",
       "  </tbody>\n",
       "</table>\n",
       "<p>1119 rows × 15 columns</p>\n",
       "</div>"
      ],
      "text/plain": [
       "                           _id  bonusPointsEarned  \\\n",
       "0     5ff1e1eb0a720f0523000575              500.0   \n",
       "1     5ff1e1bb0a720f052300056b              150.0   \n",
       "2     5ff1e1f10a720f052300057a                5.0   \n",
       "3     5ff1e1ee0a7214ada100056f                5.0   \n",
       "4     5ff1e1d20a7214ada1000561                5.0   \n",
       "...                        ...                ...   \n",
       "1114  603cc0630a720fde100003e6               25.0   \n",
       "1115  603d0b710a720fde1000042a                NaN   \n",
       "1116  603cf5290a720fde10000413                NaN   \n",
       "1117  603ce7100a7217c72c000405               25.0   \n",
       "1118  603c4fea0a7217c72c000389                NaN   \n",
       "\n",
       "                                bonusPointsEarnedReason     createDate  \\\n",
       "0     Receipt number 2 completed, bonus point schedu...  1609687531000   \n",
       "1     Receipt number 5 completed, bonus point schedu...  1609687483000   \n",
       "2                            All-receipts receipt bonus  1609687537000   \n",
       "3                            All-receipts receipt bonus  1609687534000   \n",
       "4                            All-receipts receipt bonus  1609687506000   \n",
       "...                                                 ...            ...   \n",
       "1114                        COMPLETE_NONPARTNER_RECEIPT  1614594147000   \n",
       "1115                                                NaN  1614613361873   \n",
       "1116                                                NaN  1614607657664   \n",
       "1117                        COMPLETE_NONPARTNER_RECEIPT  1614604048000   \n",
       "1118                                                NaN  1614565354962   \n",
       "\n",
       "        dateScanned   finishedDate     modifyDate pointsAwardedDate  \\\n",
       "0     1609687531000  1609687531000  1609687536000     1609687531000   \n",
       "1     1609687483000  1609687483000  1609687488000     1609687483000   \n",
       "2     1609687537000                 1609687542000                     \n",
       "3     1609687534000  1609687534000  1609687539000     1609687534000   \n",
       "4     1609687506000  1609687511000  1609687511000     1609687506000   \n",
       "...             ...            ...            ...               ...   \n",
       "1114  1614594147000                 1614594148000                     \n",
       "1115  1614613361873                 1614613361873                     \n",
       "1116  1614607657664                 1614607657664                     \n",
       "1117  1614604048000                 1614604049000                     \n",
       "1118  1614565354962                 1614565354962                     \n",
       "\n",
       "      pointsEarned   purchaseDate  purchasedItemCount  \\\n",
       "0            500.0  1609632000000                 5.0   \n",
       "1            150.0  1609601083000                 2.0   \n",
       "2              5.0  1609632000000                 1.0   \n",
       "3              5.0  1609632000000                 4.0   \n",
       "4              5.0  1609601106000                 2.0   \n",
       "...            ...            ...                 ...   \n",
       "1114          25.0  1597622400000                 2.0   \n",
       "1115           NaN                                NaN   \n",
       "1116           NaN                                NaN   \n",
       "1117          25.0  1597622400000                 2.0   \n",
       "1118           NaN                                NaN   \n",
       "\n",
       "                                 rewardsReceiptItemList rewardsReceiptStatus  \\\n",
       "0     [{'barcode': '4011', 'description': 'ITEM NOT ...             FINISHED   \n",
       "1     [{'barcode': '4011', 'description': 'ITEM NOT ...             FINISHED   \n",
       "2     [{'needsFetchReview': False, 'partnerItemId': ...             REJECTED   \n",
       "3     [{'barcode': '4011', 'description': 'ITEM NOT ...             FINISHED   \n",
       "4     [{'barcode': '4011', 'description': 'ITEM NOT ...             FINISHED   \n",
       "...                                                 ...                  ...   \n",
       "1114  [{'barcode': 'B076FJ92M4', 'description': 'mue...             REJECTED   \n",
       "1115                                                 {}            SUBMITTED   \n",
       "1116                                                 {}            SUBMITTED   \n",
       "1117  [{'barcode': 'B076FJ92M4', 'description': 'mue...             REJECTED   \n",
       "1118                                                 {}            SUBMITTED   \n",
       "\n",
       "      totalSpent                    userId  \n",
       "0          26.00  5ff1e1eacfcf6c399c274ae6  \n",
       "1          11.00  5ff1e194b6a9d73a3a9f1052  \n",
       "2          10.00  5ff1e1f1cfcf6c399c274b0b  \n",
       "3          28.00  5ff1e1eacfcf6c399c274ae6  \n",
       "4           1.00  5ff1e194b6a9d73a3a9f1052  \n",
       "...          ...                       ...  \n",
       "1114       34.96  5fc961c3b8cfca11a077dd33  \n",
       "1115         NaN  5fc961c3b8cfca11a077dd33  \n",
       "1116         NaN  5fc961c3b8cfca11a077dd33  \n",
       "1117       34.96  5fc961c3b8cfca11a077dd33  \n",
       "1118         NaN  5fc961c3b8cfca11a077dd33  \n",
       "\n",
       "[1119 rows x 15 columns]"
      ]
     },
     "execution_count": 93,
     "metadata": {},
     "output_type": "execute_result"
    }
   ],
   "source": [
    "receipts"
   ]
  },
  {
   "cell_type": "code",
   "execution_count": 94,
   "id": "e5c4443c-58e1-473b-ac92-12b1f6de5da3",
   "metadata": {},
   "outputs": [
    {
     "ename": "TypeError",
     "evalue": "unsupported operand type(s) for /: 'str' and 'float'",
     "output_type": "error",
     "traceback": [
      "\u001b[0;31m---------------------------------------------------------------------------\u001b[0m",
      "\u001b[0;31mTypeError\u001b[0m                                 Traceback (most recent call last)",
      "\u001b[0;32m<ipython-input-94-378938bcaa39>\u001b[0m in \u001b[0;36m<module>\u001b[0;34m\u001b[0m\n\u001b[1;32m      4\u001b[0m \u001b[0mreceipts\u001b[0m\u001b[0;34m[\u001b[0m\u001b[0;34m'modifyDate'\u001b[0m\u001b[0;34m]\u001b[0m \u001b[0;34m=\u001b[0m \u001b[0mconvert_time\u001b[0m\u001b[0;34m(\u001b[0m\u001b[0mreceipts\u001b[0m\u001b[0;34m,\u001b[0m \u001b[0;34m'modifyDate'\u001b[0m\u001b[0;34m)\u001b[0m\u001b[0;34m\u001b[0m\u001b[0;34m\u001b[0m\u001b[0m\n\u001b[1;32m      5\u001b[0m \u001b[0;31m# receipts['finishedDate'] = convert_time(receipts, 'finishedDate')\u001b[0m\u001b[0;34m\u001b[0m\u001b[0;34m\u001b[0m\u001b[0;34m\u001b[0m\u001b[0m\n\u001b[0;32m----> 6\u001b[0;31m \u001b[0mreceipts\u001b[0m\u001b[0;34m[\u001b[0m\u001b[0;34m'pointsAwardedDate'\u001b[0m\u001b[0;34m]\u001b[0m \u001b[0;34m=\u001b[0m \u001b[0mconvert_time\u001b[0m\u001b[0;34m(\u001b[0m\u001b[0mreceipts\u001b[0m\u001b[0;34m,\u001b[0m \u001b[0;34m'pointsAwardedDate'\u001b[0m\u001b[0;34m)\u001b[0m\u001b[0;34m\u001b[0m\u001b[0;34m\u001b[0m\u001b[0m\n\u001b[0m\u001b[1;32m      7\u001b[0m \u001b[0mreceipts\u001b[0m\u001b[0;34m[\u001b[0m\u001b[0;34m'purchaseDate'\u001b[0m\u001b[0;34m]\u001b[0m \u001b[0;34m=\u001b[0m \u001b[0mconvert_time\u001b[0m\u001b[0;34m(\u001b[0m\u001b[0mreceipts\u001b[0m\u001b[0;34m,\u001b[0m \u001b[0;34m'purchaseDate'\u001b[0m\u001b[0;34m)\u001b[0m\u001b[0;34m\u001b[0m\u001b[0;34m\u001b[0m\u001b[0m\n\u001b[1;32m      8\u001b[0m \u001b[0;34m\u001b[0m\u001b[0m\n",
      "\u001b[0;32m<ipython-input-87-7cdd8290a353>\u001b[0m in \u001b[0;36mconvert_time\u001b[0;34m(df, col)\u001b[0m\n\u001b[1;32m     15\u001b[0m             \u001b[0mtime_list\u001b[0m\u001b[0;34m.\u001b[0m\u001b[0mappend\u001b[0m\u001b[0;34m(\u001b[0m\u001b[0;34m''\u001b[0m\u001b[0;34m)\u001b[0m\u001b[0;34m\u001b[0m\u001b[0;34m\u001b[0m\u001b[0m\n\u001b[1;32m     16\u001b[0m         \u001b[0;32melse\u001b[0m\u001b[0;34m:\u001b[0m\u001b[0;34m\u001b[0m\u001b[0;34m\u001b[0m\u001b[0m\n\u001b[0;32m---> 17\u001b[0;31m             \u001b[0mtime_list\u001b[0m\u001b[0;34m.\u001b[0m\u001b[0mappend\u001b[0m\u001b[0;34m(\u001b[0m\u001b[0mdatetime\u001b[0m\u001b[0;34m.\u001b[0m\u001b[0mdatetime\u001b[0m\u001b[0;34m.\u001b[0m\u001b[0mfromtimestamp\u001b[0m\u001b[0;34m(\u001b[0m\u001b[0mdf\u001b[0m\u001b[0;34m[\u001b[0m\u001b[0mcol\u001b[0m\u001b[0;34m]\u001b[0m\u001b[0;34m.\u001b[0m\u001b[0miloc\u001b[0m\u001b[0;34m[\u001b[0m\u001b[0mi\u001b[0m\u001b[0;34m]\u001b[0m \u001b[0;34m/\u001b[0m \u001b[0;36m1e3\u001b[0m\u001b[0;34m)\u001b[0m\u001b[0;34m)\u001b[0m\u001b[0;34m\u001b[0m\u001b[0;34m\u001b[0m\u001b[0m\n\u001b[0m\u001b[1;32m     18\u001b[0m     \u001b[0;32mreturn\u001b[0m \u001b[0mtime_list\u001b[0m\u001b[0;34m\u001b[0m\u001b[0;34m\u001b[0m\u001b[0m\n",
      "\u001b[0;31mTypeError\u001b[0m: unsupported operand type(s) for /: 'str' and 'float'"
     ]
    }
   ],
   "source": [
    "#convert time from UTC to datetime\n",
    "receipts['createDate'] = convert_time(receipts, 'createDate')\n",
    "receipts['dateScanned'] = convert_time(receipts, 'dateScanned')\n",
    "receipts['modifyDate'] = convert_time(receipts, 'modifyDate')\n",
    "# receipts['finishedDate'] = convert_time(receipts, 'finishedDate')\n",
    "receipts['pointsAwardedDate'] = convert_time(receipts, 'pointsAwardedDate')\n",
    "receipts['purchaseDate'] = convert_time(receipts, 'purchaseDate')\n",
    "\n",
    "#only keep the date\n",
    "receipts['createDate'] =  receipts['createDate'].dt.date\n",
    "receipts['dateScanned'] = receipts['dateScanned'].dt.date\n",
    "receipts['modifyDate'] = receipts['modifyDate'].dt.date\n",
    "receipts['finishedDate'] = receipts['finishedDate'].dt.date\n",
    "receipts['pointsAwardedDate'] = receipts['pointsAwardedDate'].dt.date\n",
    "receipts['purchaseDate'] = receipts['purchaseDate'].dt.date"
   ]
  },
  {
   "cell_type": "markdown",
   "id": "03669674-3752-46b0-9f2c-3b490f5e0e29",
   "metadata": {},
   "source": [
    "## Brands"
   ]
  },
  {
   "cell_type": "code",
   "execution_count": null,
   "id": "e7906efc-8558-4e38-adcc-de356f5cdc62",
   "metadata": {},
   "outputs": [],
   "source": [
    "brands = pd.read_json('brands.json',lines=True)"
   ]
  },
  {
   "cell_type": "code",
   "execution_count": null,
   "id": "fce42d1f-beca-4c49-8bec-7e06136333ee",
   "metadata": {},
   "outputs": [],
   "source": [
    "#Remove unnecessary words and clean data                     \n",
    "brands['_id'] = clean_column_keep_dic_value(brands, '_id', '$oid')"
   ]
  },
  {
   "cell_type": "markdown",
   "id": "00473960-71e5-4f12-88d2-011965c7a969",
   "metadata": {},
   "source": [
    "## Users"
   ]
  },
  {
   "cell_type": "code",
   "execution_count": null,
   "id": "e1a9edc7-a115-4eb7-a82c-798696e7ec2c",
   "metadata": {},
   "outputs": [],
   "source": [
    "users = pd.read_json('users.json',lines=True)"
   ]
  },
  {
   "cell_type": "code",
   "execution_count": null,
   "id": "92c73240-400c-40b6-a7fe-93cc941cb663",
   "metadata": {},
   "outputs": [],
   "source": [
    "users = users.fillna({'createdDate':'{}', 'lastLogin':'{}'})"
   ]
  },
  {
   "cell_type": "code",
   "execution_count": null,
   "id": "dd236f4e-64a5-4821-869b-ff0f2b4f689b",
   "metadata": {},
   "outputs": [],
   "source": [
    "#Remove unnecessary words and clean data\n",
    "users['_id'] = clean_column_keep_dic_value(users, '_id', '$oid')\n",
    "users['createdDate'] = clean_column_keep_dic_value(users, 'createdDate', '$date')\n",
    "users['lastLogin'] = clean_column_keep_dic_value(users, 'lastLogin', '$date')"
   ]
  },
  {
   "cell_type": "code",
   "execution_count": null,
   "id": "3a53957e-0fe0-4300-aebb-f5b8df37035e",
   "metadata": {},
   "outputs": [],
   "source": [
    "#convert time from UTC to datetime\n",
    "users['createdDate'] = convert_time(users, 'createdDate')\n",
    "users['lastLogin'] = convert_time(users, 'lastLogin')\n",
    "\n",
    "#only keep the date\n",
    "users['createdDate'] = users['createdDate'].dt.date\n",
    "users['lastLogin'] = users['lastLogin'].dt.date"
   ]
  },
  {
   "cell_type": "markdown",
   "id": "3246a02d-7f72-4ad7-8e1c-5bb8d6125589",
   "metadata": {},
   "source": [
    "Clean `rewardsReceiptItemList` column. The first step is to explode the `rewardsReceiptItemList` field as it contains lists of receipts(using literal_eval function from ast package). Then I split each dictionary and get the sub-columns (using the json_normalize function in pandas). At the end I join the new created data with the original receipts data frame."
   ]
  },
  {
   "cell_type": "code",
   "execution_count": null,
   "id": "799430c1-631c-4d7d-bdeb-0c3f988fad4f",
   "metadata": {},
   "outputs": [],
   "source": [
    "receipts = receipts.explode('rewardsReceiptItemList')\n",
    "receipts.reset_index(inplace=True)"
   ]
  },
  {
   "cell_type": "code",
   "execution_count": null,
   "id": "3e39565d-c160-4445-bb4c-80b43d5ea39c",
   "metadata": {},
   "outputs": [],
   "source": [
    "receipts = receipts.fillna({'rewardsReceiptItemList':'{}'})\n",
    "receipts['rewardsReceiptItemList'] = receipts['rewardsReceiptItemList'].apply(lambda x:str(x))\n",
    "receipts['rewardsReceiptItemList'] = receipts['rewardsReceiptItemList'].apply(literal_eval)"
   ]
  },
  {
   "cell_type": "code",
   "execution_count": null,
   "id": "549b78f7-a114-495b-96ac-5dd8b8e2267a",
   "metadata": {},
   "outputs": [],
   "source": [
    "receipts = receipts.fillna({'rewardsReceiptItemList':'{}'})\n",
    "receipts['rewardsReceiptItemList'] = receipts['rewardsReceiptItemList'].apply(lambda x:str(x))\n",
    "receipts['rewardsReceiptItemList'] = receipts['rewardsReceiptItemList'].apply(literal_eval)"
   ]
  },
  {
   "cell_type": "code",
   "execution_count": null,
   "id": "c88bf597-10a3-41ff-a452-e73700721007",
   "metadata": {},
   "outputs": [],
   "source": [
    "receipts_final = pd.merge(receipts, receipts_norm, left_index=True, right_index=True, how='outer')\n",
    "receipts_final = receipts_final.drop(columns=['rewardsReceiptItemList'],axis=1)"
   ]
  },
  {
   "cell_type": "code",
   "execution_count": null,
   "id": "7d4737ea-e33d-4135-a86c-c9b549d1181c",
   "metadata": {},
   "outputs": [],
   "source": [
    "#extract the data in cpg column from brands\n",
    "set().union(*(d.keys() for d in brands['cpg']))\n",
    "brands_norm = pd.json_normalize(brands['cpg'])\n",
    "brands_norm = brands_norm.add_prefix('cpg.')\n",
    "brands_final = pd.merge(brands, brands_norm, left_index=True, right_index=True, how='outer')\n",
    "brands_final = brands_final.drop(columns=['cpg'],axis=1)"
   ]
  },
  {
   "cell_type": "code",
   "execution_count": null,
   "id": "1fa278e3-8ab9-46ce-b430-af81dc807921",
   "metadata": {},
   "outputs": [],
   "source": []
  },
  {
   "cell_type": "code",
   "execution_count": null,
   "id": "ec6c4706-fd14-4eae-8b14-fffd5d4f56b7",
   "metadata": {},
   "outputs": [],
   "source": [
    "users"
   ]
  },
  {
   "cell_type": "markdown",
   "id": "5337288b-b806-45a9-aa5e-7f88d6e3cfe7",
   "metadata": {},
   "source": [
    "# Join each table to make sure there are not quality problem when joining tables"
   ]
  },
  {
   "cell_type": "code",
   "execution_count": null,
   "id": "6c73fa7e-1208-4841-8f89-a589aa9413b8",
   "metadata": {},
   "outputs": [],
   "source": [
    "receipts_brands = receipts_final.merge(brands[['brandCode']].drop_duplicates(), left_on='rewardsReceiptItemList_brandCode', right_on='brandCode', how='left')"
   ]
  },
  {
   "cell_type": "code",
   "execution_count": null,
   "id": "9d301875-0f3c-4fda-a11e-26632b4f7729",
   "metadata": {},
   "outputs": [],
   "source": [
    "receipts_brands"
   ]
  },
  {
   "cell_type": "code",
   "execution_count": null,
   "id": "96013414-d27e-4bcf-846a-7e9cbb285360",
   "metadata": {},
   "outputs": [],
   "source": [
    "receipts_brands.brandCode.unique()"
   ]
  },
  {
   "cell_type": "code",
   "execution_count": null,
   "id": "a241503d-294e-45c4-93de-f2d66ed7e986",
   "metadata": {},
   "outputs": [],
   "source": [
    "receipts_brands[['brandCode']].isna().sum()"
   ]
  },
  {
   "cell_type": "code",
   "execution_count": null,
   "id": "fec58148-4fd9-4282-9e83-e6890d6ab365",
   "metadata": {},
   "outputs": [],
   "source": [
    "receipts_brands_users = receipts_brands.merge(users.drop_duplicates(), left_on='userId', right_on='_id', how='left')\n"
   ]
  },
  {
   "cell_type": "code",
   "execution_count": null,
   "id": "d7e37661-3add-4de4-8d31-d74b96537a86",
   "metadata": {},
   "outputs": [],
   "source": [
    "receipts_brands_users.isna().sum()"
   ]
  },
  {
   "cell_type": "markdown",
   "id": "a2cbf6bf-1011-4dc0-930e-13debfa578be",
   "metadata": {},
   "source": [
    "# Data Quality Check"
   ]
  },
  {
   "cell_type": "code",
   "execution_count": null,
   "id": "3b01095f-a06b-492e-8ea1-72abc2bf994e",
   "metadata": {},
   "outputs": [],
   "source": [
    "users.groupby('_id').count()['lastLogin']"
   ]
  },
  {
   "cell_type": "markdown",
   "id": "fca137ed-a2b7-4056-89e4-45c1bbd028bb",
   "metadata": {},
   "source": [
    "## 1. check null percentage"
   ]
  },
  {
   "cell_type": "code",
   "execution_count": null,
   "id": "d6480668-f297-4d34-8327-d24e4370ae99",
   "metadata": {},
   "outputs": [],
   "source": [
    "def null_percentage_calc(df, show_plot=True):  \n",
    "    null_percentage = round((df.isna().sum()/len(df))*100, 2).to_frame().rename(columns={0:'percentage'}).sort_values(by='percentage', ascending=False)\n",
    "    if show_plot == True:\n",
    "        null_percentage.plot(kind='barh')\n",
    "    return null_percentage\n"
   ]
  },
  {
   "cell_type": "code",
   "execution_count": null,
   "id": "e5168e17-9aa6-49e5-b916-5f45613fff6d",
   "metadata": {},
   "outputs": [],
   "source": [
    "null_percentage_calc(brands_final)"
   ]
  },
  {
   "cell_type": "code",
   "execution_count": null,
   "id": "77552e5f-80db-43ca-a9fe-792fb91208cb",
   "metadata": {},
   "outputs": [],
   "source": [
    "null_percentage_calc(users)"
   ]
  },
  {
   "cell_type": "code",
   "execution_count": null,
   "id": "7dbafe68-b24b-4dda-8793-abc869317cf6",
   "metadata": {},
   "outputs": [],
   "source": [
    "null_percentage_calc(receipts_final[['index', '_id', 'bonusPointsEarned', 'bonusPointsEarnedReason','createDate', 'dateScanned', 'finishedDate', \n",
    "                                     'modifyDate','pointsAwardedDate', 'pointsEarned', 'purchaseDate','purchasedItemCount', 'rewardsReceiptStatus', 'totalSpent', 'userId']])"
   ]
  },
  {
   "cell_type": "code",
   "execution_count": null,
   "id": "696ae300-6783-4fdc-8ecf-615bce925c72",
   "metadata": {},
   "outputs": [],
   "source": [
    "null_percentage_calc(receipts_final[[col for col in receipts_final if col.startswith('rewardsReceiptItemList')]], False)"
   ]
  },
  {
   "cell_type": "markdown",
   "id": "0e9ba1d2-3405-4153-b8a7-cce101f02e8e",
   "metadata": {},
   "source": [
    "## 2.Check data distribution and find potential outliers"
   ]
  },
  {
   "cell_type": "code",
   "execution_count": null,
   "id": "4c39be01-e316-4b78-885f-1fe84bfb1daa",
   "metadata": {},
   "outputs": [],
   "source": [
    "def plot_col_distribution(df, bins):\n",
    "    for col in df.columns:\n",
    "        if ((df[col].dtype) == 'float64'):\n",
    "            df[col].hist(bins=bins)\n",
    "            plt.title(col + \" Distribution\")\n",
    "            plt.show()\n",
    "    \n",
    "\n",
    "\n",
    "def boxplot(df):\n",
    "    ax = sns.boxplot(data=df, orient=\"h\", palette=\"Set2\")"
   ]
  },
  {
   "cell_type": "code",
   "execution_count": null,
   "id": "9131a83e-b3db-41ff-b808-5c5168b655de",
   "metadata": {},
   "outputs": [],
   "source": [
    "plot_col_distribution(receipts_final, 10)"
   ]
  },
  {
   "cell_type": "code",
   "execution_count": null,
   "id": "565eeafd-4b15-480d-be4a-2d0320789048",
   "metadata": {},
   "outputs": [],
   "source": [
    "boxplot(receipts_final)"
   ]
  },
  {
   "cell_type": "code",
   "execution_count": null,
   "id": "dc93716c-4eae-49d1-8188-fb7daff721ba",
   "metadata": {},
   "outputs": [],
   "source": [
    "#check whether purchasedItemCount and totalSpent have positive correlation\n",
    "sns.regplot(x=\"purchasedItemCount\", y=\"totalSpent\", data=receipts_final)"
   ]
  },
  {
   "cell_type": "code",
   "execution_count": null,
   "id": "d529c034-26d1-49b5-b954-d0f3beca40cb",
   "metadata": {},
   "outputs": [],
   "source": [
    "receipts_final.describe()"
   ]
  },
  {
   "cell_type": "markdown",
   "id": "ebef14c6-2aa6-45c0-a5d7-24967efadc31",
   "metadata": {},
   "source": [
    "# Write a query that directly answers a predetermined question from a business stakeholder"
   ]
  },
  {
   "cell_type": "markdown",
   "id": "e2909057-165e-42ed-83a8-cf9c543cad9b",
   "metadata": {},
   "source": [
    "Before pulling the data from SQL, I drop the rows where `totalSpent` and `purchasedItemCount` in Receipts is null, because when calculating the average spend of total item purchased, filling in null values will make the analysis inaccurate. "
   ]
  },
  {
   "cell_type": "code",
   "execution_count": null,
   "id": "9ddc836b-da79-4d95-8ae7-1f5b7fea01e6",
   "metadata": {},
   "outputs": [],
   "source": [
    "receipts_final = receipts_final.dropna(subset=['totalSpent', 'purchasedItemCount'], how='all')\n",
    "receipts_final = receipts_final.dropna(subset=['purchasedItemCount'], how='all')"
   ]
  },
  {
   "cell_type": "markdown",
   "id": "1ca3082d-321f-4b36-b008-28befbc9f185",
   "metadata": {},
   "source": [
    "Connect with SQLite database through SQL Alchemy python (https://docs.sqlalchemy.org/en/14/dialects/sqlite.html) to implement the SQL database for the queries."
   ]
  },
  {
   "cell_type": "code",
   "execution_count": null,
   "id": "603ba8cd-3f89-45d0-bc44-c7de923223be",
   "metadata": {},
   "outputs": [],
   "source": [
    "engine = create_engine('sqlite://', echo=False)"
   ]
  },
  {
   "cell_type": "code",
   "execution_count": null,
   "id": "8778af93-a10c-4b4c-8bd4-4c057b0d0484",
   "metadata": {},
   "outputs": [],
   "source": [
    "users.drop_duplicates(subset=['_id']).to_sql('users',con=engine)"
   ]
  },
  {
   "cell_type": "code",
   "execution_count": null,
   "id": "1e640005-d8f3-4462-93d3-8bc66f161340",
   "metadata": {},
   "outputs": [],
   "source": [
    "receipts_final.columns = receipts_final.columns.str.replace(\".\", \"_\")"
   ]
  },
  {
   "cell_type": "code",
   "execution_count": null,
   "id": "1110e6ea-3696-495e-a0ff-48b5788219ae",
   "metadata": {},
   "outputs": [],
   "source": [
    "receipts_final.to_sql('receipts',con=engine)"
   ]
  },
  {
   "cell_type": "code",
   "execution_count": null,
   "id": "96db369b-19a8-4835-a115-351cede66442",
   "metadata": {},
   "outputs": [],
   "source": [
    "brands_final.drop_duplicates(subset=['brandCode']).to_sql('brands',con=engine)"
   ]
  },
  {
   "cell_type": "code",
   "execution_count": null,
   "id": "ae3af022-0d6f-4205-a755-39028b7b13ef",
   "metadata": {},
   "outputs": [],
   "source": [
    "receipts.rewardsReceiptStatus.unique()"
   ]
  },
  {
   "cell_type": "markdown",
   "id": "e9e65e0c-6d5b-4bfa-a095-3fd65e23a818",
   "metadata": {},
   "source": [
    "### When considering average spend from receipts with 'rewardsReceiptStatus’ of ‘Accepted’ or ‘Rejected’, which is greater?"
   ]
  },
  {
   "cell_type": "markdown",
   "id": "7e003934-ccdb-4dba-925c-0e1f31f2a469",
   "metadata": {},
   "source": [
    "Since I didn't see 'Accepted' as a status in rewardsReceiptStatus, I'm assuming `FINISHED` represents 'Accepted'. I will follow up with stakeholders in the email."
   ]
  },
  {
   "cell_type": "code",
   "execution_count": null,
   "id": "9120f102-a599-47c8-9a2a-91bc84f7aa9f",
   "metadata": {},
   "outputs": [],
   "source": [
    "engine.execute('''SELECT rewardsReceiptStatus, ROUND(AVG(totalSpent), 2) as avg_spent\n",
    "                  FROM receipts\n",
    "                  where rewardsReceiptStatus = 'FINISHED' or  rewardsReceiptStatus = 'REJECTED'\n",
    "                  GROUP BY rewardsReceiptStatus''').fetchall()"
   ]
  },
  {
   "cell_type": "markdown",
   "id": "ca53eb36-5a51-4877-aad3-0ec3c7fa5b94",
   "metadata": {},
   "source": [
    "### When considering total number of items purchased from receipts with 'rewardsReceiptStatus’ of ‘Accepted’ or ‘Rejected’, which is greater?"
   ]
  },
  {
   "cell_type": "code",
   "execution_count": null,
   "id": "d7701122-bfec-4874-8a16-615e968d45ae",
   "metadata": {},
   "outputs": [],
   "source": [
    "engine.execute('''SELECT rewardsReceiptStatus, ROUND(SUM(purchasedItemCount), 2) as total_num_purchased\n",
    "                  FROM receipts\n",
    "                  where rewardsReceiptStatus = 'FINISHED' or  rewardsReceiptStatus = 'REJECTED'\n",
    "                  GROUP BY rewardsReceiptStatus''').fetchall()"
   ]
  },
  {
   "cell_type": "markdown",
   "id": "03c0b33a-3974-4640-b666-6aa0c2e69a8b",
   "metadata": {},
   "source": [
    "# Communicate with Stakeholders\n",
    "Construct an email or slack message that is understandable to a product or business leader who isn’t familiar with your day to day work. This part of the exercise should show off how you communicate and reason about data with others. Commit your answers to the git repository along with the rest of your exercise.\n",
    "\n",
    "* What questions do you have about the data?\n",
    "* How did you discover the data quality issues?\n",
    "* What do you need to know to resolve the data quality issues?\n",
    "* What other information would you need to help you optimize the data assets you're trying to create?\n",
    "* What performance and scaling concerns do you anticipate in production and how do you plan to address them?"
   ]
  },
  {
   "cell_type": "code",
   "execution_count": null,
   "id": "8533d840-8bd5-4331-8d6a-a1caaffc8dbd",
   "metadata": {},
   "outputs": [],
   "source": [
    "brands.isna().sum()"
   ]
  },
  {
   "cell_type": "code",
   "execution_count": null,
   "id": "875404e8-6112-40f4-8118-5ff283776c79",
   "metadata": {},
   "outputs": [],
   "source": [
    "users.isna().sum()"
   ]
  },
  {
   "cell_type": "code",
   "execution_count": null,
   "id": "b66f7a50-7742-4e5c-9194-39a68689bc75",
   "metadata": {},
   "outputs": [],
   "source": [
    "receipts_final.columns"
   ]
  },
  {
   "cell_type": "markdown",
   "id": "be19d81a-7045-4b71-911e-11e8bedf322a",
   "metadata": {},
   "source": [
    "Hi all,\n",
    "\n",
    "I've been working on the analysis of finding the average spend and total number of items purchased for the receipts which rewardsReceiptStatus is **Accepted or Rejected**. I want to update my progress and clarify questions with you.\n",
    "\n",
    "I found that the average spend where rewardsReceiptStatus is **Finished is 1244.37, Rejected is 19.54**, and the total number of items purchased for **Finished is 1364998, Rejected is 740. Both average spend and total number of items purchased where the rewardsReceiptStatus is FINISHED is a lot higher than REJECTED. \n",
    "\n",
    "Questions I want to clarify:\n",
    "\n",
    "1. Data Definition Clarification For The Analysis\n",
    "In the current analysis, I’m assuming that **Finished = Accepted** because I didn’t see any row of data where rewardsReceiptStatus is **Accepted**. Correct me if I am wrong, and I will update the analysis.\n",
    "\n",
    "2. Data Format\n",
    "The current data is not well structured. For example, there is lots of data under rewardsReceiptItemList, and I need to spend time restructuring the data frame for analysis. Is the format required in the product implementation? This type of data storage format would be cost a lot time for data wrangling in the future when we have millions of data. It would be helpful for us to spend time discussing restructuring the current data frame so that we could work more efficiently in the future.\n",
    "I also want to discuss the data relationships\n",
    "\n",
    "\n",
    "\n",
    "\n",
    "3. Missing Value and Outliers \n",
    "There are some missing values in Users, Brands, Receipts tables. There are especially a great amount of null values in rewardsReceiptItemList column. Could you let me know what the data collection process is, so that we can brainstorm methods to improve data quality, reduce the null value in the future. \n",
    "\n",
    "There are also lots of extreme values in the dataset. For example, a few transactions earned 6000+ points, and spent 4000+ dollars. Are these possible transactions, or is it incorrect information?\n",
    "\n",
    "Some user_id is null when we join Receipts table and Users, this might due to the fact that users did not log into the account. It we be helpful for us to discuss some alternative methods to gather user information. Having sufficient customer/user data will help further customer analysis. Another data issue I want to address is that there are a lot of receipts in the data which brandcodes do not exist in the brands data. This could be problematic when we are doing analysis on brand level. \n",
    "\n",
    "Let me know what your thoughts are. We can schedule a meeting to clarify above questions and discuss further analysis.\n",
    "\n",
    "Thanks!\n",
    "\n",
    "Best Regards,\n",
    "Shana\n"
   ]
  },
  {
   "cell_type": "code",
   "execution_count": null,
   "id": "9a7ab77d-fe74-421b-aac7-25bb1dcd8d41",
   "metadata": {},
   "outputs": [],
   "source": []
  },
  {
   "cell_type": "code",
   "execution_count": null,
   "id": "b8852e20-6bda-4ee1-a6d2-de1a8f6d3308",
   "metadata": {},
   "outputs": [],
   "source": []
  },
  {
   "cell_type": "code",
   "execution_count": null,
   "id": "eececa3c-0f63-4fef-9f32-0ed9ef02772f",
   "metadata": {},
   "outputs": [],
   "source": []
  }
 ],
 "metadata": {
  "kernelspec": {
   "display_name": "Python 3",
   "language": "python",
   "name": "python3"
  },
  "language_info": {
   "codemirror_mode": {
    "name": "ipython",
    "version": 3
   },
   "file_extension": ".py",
   "mimetype": "text/x-python",
   "name": "python",
   "nbconvert_exporter": "python",
   "pygments_lexer": "ipython3",
   "version": "3.8.8"
  }
 },
 "nbformat": 4,
 "nbformat_minor": 5
}
