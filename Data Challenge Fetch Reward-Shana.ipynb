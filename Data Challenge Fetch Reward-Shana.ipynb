{
 "cells": [
  {
   "cell_type": "markdown",
   "id": "61df2f74-124c-4aa0-a589-a6d05d35c57b",
   "metadata": {},
   "source": [
    "# Fetch Rewards Coding Exercise - Data Analyst"
   ]
  },
  {
   "cell_type": "code",
   "execution_count": 1,
   "id": "3c9db7ed-7f0b-4e24-bded-c7ef21621be4",
   "metadata": {},
   "outputs": [],
   "source": [
    "import pandas as pd\n",
    "from ast import literal_eval\n",
    "import json\n",
    "import datetime\n",
    "from sqlalchemy import create_engine\n",
    "import sklearn\n",
    "import matplotlib.pyplot as plt\n",
    "import seaborn as sns"
   ]
  },
  {
   "cell_type": "markdown",
   "id": "b6f00001-b0d4-41db-a9ff-ef7ee9fa4c5a",
   "metadata": {},
   "source": [
    "## Read in Data\n",
    "Read in Receipts, Brands and Users data"
   ]
  },
  {
   "cell_type": "markdown",
   "id": "d38f7be5-9aa7-4fbc-ae97-0ad16e873f2f",
   "metadata": {},
   "source": [
    "### Receipts\n",
    "In this section, I read in json file, clean the data by removing unnecessary words, convert time format from UTC to datetime, and pull of the data that is stored in `rewardsReceiptItemList` column"
   ]
  },
  {
   "cell_type": "code",
   "execution_count": 2,
   "id": "3147f5ae-73dc-4c6b-b003-38f9d5ae42f7",
   "metadata": {},
   "outputs": [],
   "source": [
    "receipts = pd.read_json('receipts.json',lines=True)"
   ]
  },
  {
   "cell_type": "code",
   "execution_count": 3,
   "id": "16ba6d4c-ab59-4385-aae4-26df2353b628",
   "metadata": {},
   "outputs": [],
   "source": [
    "#receipt\n",
    "receipts = receipts.fillna({'rewardsReceiptItemList': '{}', 'finishedDate': '{}', 'pointsAwardedDate': '{}', 'purchaseDate': '{}'})"
   ]
  },
  {
   "cell_type": "code",
   "execution_count": 4,
   "id": "d8bf4f65-543a-471d-ab36-0860f5fee63b",
   "metadata": {},
   "outputs": [],
   "source": [
    "#functions for data cleaning\n",
    "def clean_column_keep_dic_value(df, col, key):  \n",
    "    all_list=[]\n",
    "    for i in range(len(df)):\n",
    "        if df[col].iloc[i] == '{}': \n",
    "            all_list.append('{}')\n",
    "        else: \n",
    "            all_list.append(df[col].iloc[i][key])\n",
    "    return all_list\n",
    "\n",
    "def convert_time(df, col):\n",
    "    time_list = []\n",
    "    for i in range(len(df)):\n",
    "        if df[col].iloc[i] == '{}': \n",
    "            time_list.append('')\n",
    "        else:\n",
    "            time_list.append(datetime.datetime.fromtimestamp(df[col].iloc[i] / 1e3)) \n",
    "    return time_list"
   ]
  },
  {
   "cell_type": "code",
   "execution_count": 5,
   "id": "8c022d72-179b-43db-9230-e31664144121",
   "metadata": {},
   "outputs": [],
   "source": [
    "#Remove unnecessary words and clean data\n",
    "receipts['_id'] = clean_column_keep_dic_value(receipts, '_id', '$oid')\n",
    "receipts['createDate'] = clean_column_keep_dic_value(receipts, 'createDate', '$date')\n",
    "receipts['dateScanned'] = clean_column_keep_dic_value(receipts, 'dateScanned', '$date')\n",
    "receipts['modifyDate'] = clean_column_keep_dic_value(receipts, 'modifyDate', '$date')\n",
    "receipts['finishedDate'] = clean_column_keep_dic_value(receipts, 'finishedDate', '$date')\n",
    "receipts['pointsAwardedDate'] = clean_column_keep_dic_value(receipts, 'pointsAwardedDate', '$date')\n",
    "receipts['purchaseDate'] = clean_column_keep_dic_value(receipts, 'purchaseDate', '$date')"
   ]
  },
  {
   "cell_type": "code",
   "execution_count": 6,
   "id": "e5c4443c-58e1-473b-ac92-12b1f6de5da3",
   "metadata": {},
   "outputs": [],
   "source": [
    "#convert time from UTC to datetime\n",
    "receipts['createDate'] = convert_time(receipts, 'createDate')\n",
    "receipts['dateScanned'] = convert_time(receipts, 'dateScanned')\n",
    "receipts['modifyDate'] = convert_time(receipts, 'modifyDate')\n",
    "receipts['finishedDate'] = convert_time(receipts, 'finishedDate')\n",
    "receipts['pointsAwardedDate'] = convert_time(receipts, 'pointsAwardedDate')\n",
    "receipts['purchaseDate'] = convert_time(receipts, 'purchaseDate')\n",
    "\n",
    "#only keep the date\n",
    "receipts['createDate'] =  receipts['createDate'].dt.date\n",
    "receipts['dateScanned'] = receipts['dateScanned'].dt.date\n",
    "receipts['modifyDate'] = receipts['modifyDate'].dt.date\n",
    "receipts['finishedDate'] = receipts['finishedDate'].dt.date\n",
    "receipts['pointsAwardedDate'] = receipts['pointsAwardedDate'].dt.date\n",
    "receipts['purchaseDate'] = receipts['purchaseDate'].dt.date"
   ]
  },
  {
   "cell_type": "markdown",
   "id": "72ddb59c-69b0-48bd-b4b7-3c8175b962f5",
   "metadata": {},
   "source": [
    "Clean `rewardsReceiptItemList` column. The first step is to explode the `rewardsReceiptItemList` field as it contains lists of receipts. Then I split each dictionary and get the sub-columns. At the end I join the new created data with the original receipts data frame."
   ]
  },
  {
   "cell_type": "code",
   "execution_count": 7,
   "id": "4e9e405b-895d-45b4-add8-3dadfc23cda6",
   "metadata": {},
   "outputs": [],
   "source": [
    "receipts = receipts.explode('rewardsReceiptItemList')\n",
    "receipts.reset_index(inplace=True)"
   ]
  },
  {
   "cell_type": "code",
   "execution_count": 8,
   "id": "f14fd3d9-d5dd-40de-ad1e-2b7611519894",
   "metadata": {},
   "outputs": [],
   "source": [
    "receipts = receipts.fillna({'rewardsReceiptItemList':'{}'})\n",
    "receipts['rewardsReceiptItemList'] = receipts['rewardsReceiptItemList'].apply(lambda x:str(x))\n",
    "receipts['rewardsReceiptItemList'] = receipts['rewardsReceiptItemList'].apply(literal_eval)"
   ]
  },
  {
   "cell_type": "code",
   "execution_count": 9,
   "id": "9c12b8e3-ba3d-45f9-8d26-1f3e76307c16",
   "metadata": {},
   "outputs": [],
   "source": [
    "receipts_norm = pd.json_normalize(receipts['rewardsReceiptItemList'],errors='ignore',record_prefix='rewardsReceiptItemList').add_prefix('rewardsReceiptItemList.')"
   ]
  },
  {
   "cell_type": "code",
   "execution_count": 10,
   "id": "cfac5a5e-1beb-4ad0-bd86-796e43bea214",
   "metadata": {},
   "outputs": [],
   "source": [
    "receipts_final = pd.merge(receipts, receipts_norm, left_index=True, right_index=True, how='outer')\n",
    "receipts_final = receipts_final.drop(columns=['rewardsReceiptItemList'],axis=1)"
   ]
  },
  {
   "cell_type": "code",
   "execution_count": 11,
   "id": "624d4f08-2e1b-4f56-a3c4-fde5d9be6d0f",
   "metadata": {},
   "outputs": [
    {
     "data": {
      "text/html": [
       "<div>\n",
       "<style scoped>\n",
       "    .dataframe tbody tr th:only-of-type {\n",
       "        vertical-align: middle;\n",
       "    }\n",
       "\n",
       "    .dataframe tbody tr th {\n",
       "        vertical-align: top;\n",
       "    }\n",
       "\n",
       "    .dataframe thead th {\n",
       "        text-align: right;\n",
       "    }\n",
       "</style>\n",
       "<table border=\"1\" class=\"dataframe\">\n",
       "  <thead>\n",
       "    <tr style=\"text-align: right;\">\n",
       "      <th></th>\n",
       "      <th>index</th>\n",
       "      <th>_id</th>\n",
       "      <th>bonusPointsEarned</th>\n",
       "      <th>bonusPointsEarnedReason</th>\n",
       "      <th>createDate</th>\n",
       "      <th>dateScanned</th>\n",
       "      <th>finishedDate</th>\n",
       "      <th>modifyDate</th>\n",
       "      <th>pointsAwardedDate</th>\n",
       "      <th>pointsEarned</th>\n",
       "      <th>...</th>\n",
       "      <th>rewardsReceiptItemList.itemNumber</th>\n",
       "      <th>rewardsReceiptItemList.originalMetaBriteQuantityPurchased</th>\n",
       "      <th>rewardsReceiptItemList.pointsEarned</th>\n",
       "      <th>rewardsReceiptItemList.targetPrice</th>\n",
       "      <th>rewardsReceiptItemList.competitiveProduct</th>\n",
       "      <th>rewardsReceiptItemList.originalFinalPrice</th>\n",
       "      <th>rewardsReceiptItemList.originalMetaBriteItemPrice</th>\n",
       "      <th>rewardsReceiptItemList.deleted</th>\n",
       "      <th>rewardsReceiptItemList.priceAfterCoupon</th>\n",
       "      <th>rewardsReceiptItemList.metabriteCampaignId</th>\n",
       "    </tr>\n",
       "  </thead>\n",
       "  <tbody>\n",
       "    <tr>\n",
       "      <th>0</th>\n",
       "      <td>0</td>\n",
       "      <td>5ff1e1eb0a720f0523000575</td>\n",
       "      <td>500.0</td>\n",
       "      <td>Receipt number 2 completed, bonus point schedu...</td>\n",
       "      <td>2021-01-03</td>\n",
       "      <td>2021-01-03</td>\n",
       "      <td>2021-01-03</td>\n",
       "      <td>2021-01-03</td>\n",
       "      <td>2021-01-03</td>\n",
       "      <td>500.0</td>\n",
       "      <td>...</td>\n",
       "      <td>NaN</td>\n",
       "      <td>NaN</td>\n",
       "      <td>NaN</td>\n",
       "      <td>NaN</td>\n",
       "      <td>NaN</td>\n",
       "      <td>NaN</td>\n",
       "      <td>NaN</td>\n",
       "      <td>NaN</td>\n",
       "      <td>NaN</td>\n",
       "      <td>NaN</td>\n",
       "    </tr>\n",
       "    <tr>\n",
       "      <th>1</th>\n",
       "      <td>1</td>\n",
       "      <td>5ff1e1bb0a720f052300056b</td>\n",
       "      <td>150.0</td>\n",
       "      <td>Receipt number 5 completed, bonus point schedu...</td>\n",
       "      <td>2021-01-03</td>\n",
       "      <td>2021-01-03</td>\n",
       "      <td>2021-01-03</td>\n",
       "      <td>2021-01-03</td>\n",
       "      <td>2021-01-03</td>\n",
       "      <td>150.0</td>\n",
       "      <td>...</td>\n",
       "      <td>NaN</td>\n",
       "      <td>NaN</td>\n",
       "      <td>NaN</td>\n",
       "      <td>NaN</td>\n",
       "      <td>NaN</td>\n",
       "      <td>NaN</td>\n",
       "      <td>NaN</td>\n",
       "      <td>NaN</td>\n",
       "      <td>NaN</td>\n",
       "      <td>NaN</td>\n",
       "    </tr>\n",
       "    <tr>\n",
       "      <th>2</th>\n",
       "      <td>1</td>\n",
       "      <td>5ff1e1bb0a720f052300056b</td>\n",
       "      <td>150.0</td>\n",
       "      <td>Receipt number 5 completed, bonus point schedu...</td>\n",
       "      <td>2021-01-03</td>\n",
       "      <td>2021-01-03</td>\n",
       "      <td>2021-01-03</td>\n",
       "      <td>2021-01-03</td>\n",
       "      <td>2021-01-03</td>\n",
       "      <td>150.0</td>\n",
       "      <td>...</td>\n",
       "      <td>NaN</td>\n",
       "      <td>NaN</td>\n",
       "      <td>NaN</td>\n",
       "      <td>NaN</td>\n",
       "      <td>NaN</td>\n",
       "      <td>NaN</td>\n",
       "      <td>NaN</td>\n",
       "      <td>NaN</td>\n",
       "      <td>NaN</td>\n",
       "      <td>NaN</td>\n",
       "    </tr>\n",
       "    <tr>\n",
       "      <th>3</th>\n",
       "      <td>2</td>\n",
       "      <td>5ff1e1f10a720f052300057a</td>\n",
       "      <td>5.0</td>\n",
       "      <td>All-receipts receipt bonus</td>\n",
       "      <td>2021-01-03</td>\n",
       "      <td>2021-01-03</td>\n",
       "      <td>NaT</td>\n",
       "      <td>2021-01-03</td>\n",
       "      <td>NaT</td>\n",
       "      <td>5.0</td>\n",
       "      <td>...</td>\n",
       "      <td>NaN</td>\n",
       "      <td>NaN</td>\n",
       "      <td>NaN</td>\n",
       "      <td>NaN</td>\n",
       "      <td>NaN</td>\n",
       "      <td>NaN</td>\n",
       "      <td>NaN</td>\n",
       "      <td>NaN</td>\n",
       "      <td>NaN</td>\n",
       "      <td>NaN</td>\n",
       "    </tr>\n",
       "    <tr>\n",
       "      <th>4</th>\n",
       "      <td>3</td>\n",
       "      <td>5ff1e1ee0a7214ada100056f</td>\n",
       "      <td>5.0</td>\n",
       "      <td>All-receipts receipt bonus</td>\n",
       "      <td>2021-01-03</td>\n",
       "      <td>2021-01-03</td>\n",
       "      <td>2021-01-03</td>\n",
       "      <td>2021-01-03</td>\n",
       "      <td>2021-01-03</td>\n",
       "      <td>5.0</td>\n",
       "      <td>...</td>\n",
       "      <td>NaN</td>\n",
       "      <td>NaN</td>\n",
       "      <td>NaN</td>\n",
       "      <td>NaN</td>\n",
       "      <td>NaN</td>\n",
       "      <td>NaN</td>\n",
       "      <td>NaN</td>\n",
       "      <td>NaN</td>\n",
       "      <td>NaN</td>\n",
       "      <td>NaN</td>\n",
       "    </tr>\n",
       "  </tbody>\n",
       "</table>\n",
       "<p>5 rows × 49 columns</p>\n",
       "</div>"
      ],
      "text/plain": [
       "   index                       _id  bonusPointsEarned  \\\n",
       "0      0  5ff1e1eb0a720f0523000575              500.0   \n",
       "1      1  5ff1e1bb0a720f052300056b              150.0   \n",
       "2      1  5ff1e1bb0a720f052300056b              150.0   \n",
       "3      2  5ff1e1f10a720f052300057a                5.0   \n",
       "4      3  5ff1e1ee0a7214ada100056f                5.0   \n",
       "\n",
       "                             bonusPointsEarnedReason  createDate dateScanned  \\\n",
       "0  Receipt number 2 completed, bonus point schedu...  2021-01-03  2021-01-03   \n",
       "1  Receipt number 5 completed, bonus point schedu...  2021-01-03  2021-01-03   \n",
       "2  Receipt number 5 completed, bonus point schedu...  2021-01-03  2021-01-03   \n",
       "3                         All-receipts receipt bonus  2021-01-03  2021-01-03   \n",
       "4                         All-receipts receipt bonus  2021-01-03  2021-01-03   \n",
       "\n",
       "  finishedDate  modifyDate pointsAwardedDate  pointsEarned  ...  \\\n",
       "0   2021-01-03  2021-01-03        2021-01-03         500.0  ...   \n",
       "1   2021-01-03  2021-01-03        2021-01-03         150.0  ...   \n",
       "2   2021-01-03  2021-01-03        2021-01-03         150.0  ...   \n",
       "3          NaT  2021-01-03               NaT           5.0  ...   \n",
       "4   2021-01-03  2021-01-03        2021-01-03           5.0  ...   \n",
       "\n",
       "  rewardsReceiptItemList.itemNumber  \\\n",
       "0                               NaN   \n",
       "1                               NaN   \n",
       "2                               NaN   \n",
       "3                               NaN   \n",
       "4                               NaN   \n",
       "\n",
       "   rewardsReceiptItemList.originalMetaBriteQuantityPurchased  \\\n",
       "0                                                NaN           \n",
       "1                                                NaN           \n",
       "2                                                NaN           \n",
       "3                                                NaN           \n",
       "4                                                NaN           \n",
       "\n",
       "  rewardsReceiptItemList.pointsEarned  rewardsReceiptItemList.targetPrice  \\\n",
       "0                                 NaN                                 NaN   \n",
       "1                                 NaN                                 NaN   \n",
       "2                                 NaN                                 NaN   \n",
       "3                                 NaN                                 NaN   \n",
       "4                                 NaN                                 NaN   \n",
       "\n",
       "  rewardsReceiptItemList.competitiveProduct  \\\n",
       "0                                       NaN   \n",
       "1                                       NaN   \n",
       "2                                       NaN   \n",
       "3                                       NaN   \n",
       "4                                       NaN   \n",
       "\n",
       "  rewardsReceiptItemList.originalFinalPrice  \\\n",
       "0                                       NaN   \n",
       "1                                       NaN   \n",
       "2                                       NaN   \n",
       "3                                       NaN   \n",
       "4                                       NaN   \n",
       "\n",
       "  rewardsReceiptItemList.originalMetaBriteItemPrice  \\\n",
       "0                                               NaN   \n",
       "1                                               NaN   \n",
       "2                                               NaN   \n",
       "3                                               NaN   \n",
       "4                                               NaN   \n",
       "\n",
       "  rewardsReceiptItemList.deleted rewardsReceiptItemList.priceAfterCoupon  \\\n",
       "0                            NaN                                     NaN   \n",
       "1                            NaN                                     NaN   \n",
       "2                            NaN                                     NaN   \n",
       "3                            NaN                                     NaN   \n",
       "4                            NaN                                     NaN   \n",
       "\n",
       "  rewardsReceiptItemList.metabriteCampaignId  \n",
       "0                                        NaN  \n",
       "1                                        NaN  \n",
       "2                                        NaN  \n",
       "3                                        NaN  \n",
       "4                                        NaN  \n",
       "\n",
       "[5 rows x 49 columns]"
      ]
     },
     "execution_count": 11,
     "metadata": {},
     "output_type": "execute_result"
    }
   ],
   "source": [
    "receipts_final.head()"
   ]
  },
  {
   "cell_type": "markdown",
   "id": "03669674-3752-46b0-9f2c-3b490f5e0e29",
   "metadata": {},
   "source": [
    "### Brands\n",
    "In this section, I read in Brands data, remove unnecessary words and pull out the data that is stored in `cpg` column and create new columns."
   ]
  },
  {
   "cell_type": "code",
   "execution_count": 12,
   "id": "e7906efc-8558-4e38-adcc-de356f5cdc62",
   "metadata": {},
   "outputs": [],
   "source": [
    "brands = pd.read_json('brands.json',lines=True)"
   ]
  },
  {
   "cell_type": "code",
   "execution_count": 13,
   "id": "fce42d1f-beca-4c49-8bec-7e06136333ee",
   "metadata": {},
   "outputs": [],
   "source": [
    "#Remove unnecessary words and clean data                     \n",
    "brands['_id'] = clean_column_keep_dic_value(brands, '_id', '$oid')"
   ]
  },
  {
   "cell_type": "code",
   "execution_count": 14,
   "id": "d8dfd78c-3848-4e9b-97ae-ef018857041d",
   "metadata": {},
   "outputs": [],
   "source": [
    "#extract the data in cpg column from brands\n",
    "set().union(*(d.keys() for d in brands['cpg']))\n",
    "brands_norm = pd.json_normalize(brands['cpg'])\n",
    "brands_norm = brands_norm.add_prefix('cpg.')\n",
    "brands_final = pd.merge(brands, brands_norm, left_index=True, right_index=True, how='outer')\n",
    "brands_final = brands_final.drop(columns=['cpg'],axis=1)"
   ]
  },
  {
   "cell_type": "markdown",
   "id": "00473960-71e5-4f12-88d2-011965c7a969",
   "metadata": {},
   "source": [
    "### Users\n",
    "In this section, I read in Users data, clean the data by removing unnecessary words, convert time format from UTC to datetime."
   ]
  },
  {
   "cell_type": "code",
   "execution_count": 15,
   "id": "e1a9edc7-a115-4eb7-a82c-798696e7ec2c",
   "metadata": {},
   "outputs": [],
   "source": [
    "users = pd.read_json('users.json',lines=True)"
   ]
  },
  {
   "cell_type": "code",
   "execution_count": 16,
   "id": "92c73240-400c-40b6-a7fe-93cc941cb663",
   "metadata": {},
   "outputs": [],
   "source": [
    "users = users.fillna({'createdDate':'{}', 'lastLogin':'{}'})"
   ]
  },
  {
   "cell_type": "code",
   "execution_count": 17,
   "id": "dd236f4e-64a5-4821-869b-ff0f2b4f689b",
   "metadata": {},
   "outputs": [],
   "source": [
    "#Remove unnecessary words and clean data\n",
    "users['_id'] = clean_column_keep_dic_value(users, '_id', '$oid')\n",
    "users['createdDate'] = clean_column_keep_dic_value(users, 'createdDate', '$date')\n",
    "users['lastLogin'] = clean_column_keep_dic_value(users, 'lastLogin', '$date')"
   ]
  },
  {
   "cell_type": "code",
   "execution_count": 18,
   "id": "1664f682-753f-4d57-b366-19453a17ee8f",
   "metadata": {},
   "outputs": [],
   "source": [
    "users = users.fillna({'createdDate':'{}', 'lastLogin':'{}'})"
   ]
  },
  {
   "cell_type": "code",
   "execution_count": 19,
   "id": "3a53957e-0fe0-4300-aebb-f5b8df37035e",
   "metadata": {},
   "outputs": [],
   "source": [
    "#convert time from UTC to datetime\n",
    "users['createdDate'] = convert_time(users, 'createdDate')\n",
    "users['lastLogin'] = convert_time(users, 'lastLogin')\n",
    "\n",
    "#only keep the date\n",
    "users['createdDate'] = users['createdDate'].dt.date\n",
    "users['lastLogin'] = users['lastLogin'].dt.date"
   ]
  },
  {
   "cell_type": "markdown",
   "id": "5e4a1f48-5678-4a60-a805-375a200d8514",
   "metadata": {},
   "source": [
    "# Data Quality Check\n",
    "In this section, I joined tables to see whether keys in a table matched keys in another table. I also checked the null value percentage for each column, and visualized the numerical data distribution. \n",
    "\n",
    "\n",
    "I found that:\n",
    "1. There are lots of `userId` in the Receipts table that could not match the `_id` in Users table. \n",
    "2. There are lots of `brandcodes` in the Receipts table that could not match the `brandcodes` in the Brands table. This could be problematic when we are doing analysis on brand level. \n",
    "3. In the Receipts, Users, and Brands tables, there are many columns with a high percentage of missing values, so we should work on gathering data more completely, so that we can make more accurate analysis in the future. \n",
    "4. The distribution chart shows that there are some outliers in some columns. (for example, pointsEarned, totalSpent) We should discuss with stakeholders to see whether these are abnormal data points.\n"
   ]
  },
  {
   "cell_type": "markdown",
   "id": "5337288b-b806-45a9-aa5e-7f88d6e3cfe7",
   "metadata": {},
   "source": [
    "## Join each table to make sure there are not quality problem when joining tables"
   ]
  },
  {
   "cell_type": "code",
   "execution_count": 20,
   "id": "6c73fa7e-1208-4841-8f89-a589aa9413b8",
   "metadata": {},
   "outputs": [],
   "source": [
    "receipts_brands = receipts_final.merge(brands[['brandCode']].drop_duplicates(), left_on='rewardsReceiptItemList.brandCode', right_on='brandCode', how='left')"
   ]
  },
  {
   "cell_type": "code",
   "execution_count": 22,
   "id": "fec58148-4fd9-4282-9e83-e6890d6ab365",
   "metadata": {},
   "outputs": [],
   "source": [
    "receipts_brands_users = receipts_brands.merge(users.drop_duplicates(), left_on='userId', right_on='_id', how='left')"
   ]
  },
  {
   "cell_type": "code",
   "execution_count": 23,
   "id": "d028c51d-8382-412b-9643-c5578d03e521",
   "metadata": {},
   "outputs": [],
   "source": [
    "# receipts_brands_users.isna().sum()"
   ]
  },
  {
   "cell_type": "code",
   "execution_count": 24,
   "id": "b31f953e-f6ff-40f9-a71f-f6c53fa144d3",
   "metadata": {},
   "outputs": [
    {
     "data": {
      "text/html": [
       "<div>\n",
       "<style scoped>\n",
       "    .dataframe tbody tr th:only-of-type {\n",
       "        vertical-align: middle;\n",
       "    }\n",
       "\n",
       "    .dataframe tbody tr th {\n",
       "        vertical-align: top;\n",
       "    }\n",
       "\n",
       "    .dataframe thead th {\n",
       "        text-align: right;\n",
       "    }\n",
       "</style>\n",
       "<table border=\"1\" class=\"dataframe\">\n",
       "  <thead>\n",
       "    <tr style=\"text-align: right;\">\n",
       "      <th></th>\n",
       "      <th>index</th>\n",
       "      <th>_id_x</th>\n",
       "      <th>bonusPointsEarned</th>\n",
       "      <th>bonusPointsEarnedReason</th>\n",
       "      <th>createDate</th>\n",
       "      <th>dateScanned</th>\n",
       "      <th>finishedDate</th>\n",
       "      <th>modifyDate</th>\n",
       "      <th>pointsAwardedDate</th>\n",
       "      <th>pointsEarned</th>\n",
       "      <th>...</th>\n",
       "      <th>rewardsReceiptItemList.priceAfterCoupon</th>\n",
       "      <th>rewardsReceiptItemList.metabriteCampaignId</th>\n",
       "      <th>brandCode</th>\n",
       "      <th>_id_y</th>\n",
       "      <th>active</th>\n",
       "      <th>createdDate</th>\n",
       "      <th>lastLogin</th>\n",
       "      <th>role</th>\n",
       "      <th>signUpSource</th>\n",
       "      <th>state</th>\n",
       "    </tr>\n",
       "  </thead>\n",
       "  <tbody>\n",
       "    <tr>\n",
       "      <th>0</th>\n",
       "      <td>0</td>\n",
       "      <td>5ff1e1eb0a720f0523000575</td>\n",
       "      <td>500.0</td>\n",
       "      <td>Receipt number 2 completed, bonus point schedu...</td>\n",
       "      <td>2021-01-03</td>\n",
       "      <td>2021-01-03</td>\n",
       "      <td>2021-01-03</td>\n",
       "      <td>2021-01-03</td>\n",
       "      <td>2021-01-03</td>\n",
       "      <td>500.0</td>\n",
       "      <td>...</td>\n",
       "      <td>NaN</td>\n",
       "      <td>NaN</td>\n",
       "      <td>NaN</td>\n",
       "      <td>5ff1e1eacfcf6c399c274ae6</td>\n",
       "      <td>True</td>\n",
       "      <td>2021-01-03</td>\n",
       "      <td>2021-01-03</td>\n",
       "      <td>consumer</td>\n",
       "      <td>Email</td>\n",
       "      <td>WI</td>\n",
       "    </tr>\n",
       "    <tr>\n",
       "      <th>1</th>\n",
       "      <td>1</td>\n",
       "      <td>5ff1e1bb0a720f052300056b</td>\n",
       "      <td>150.0</td>\n",
       "      <td>Receipt number 5 completed, bonus point schedu...</td>\n",
       "      <td>2021-01-03</td>\n",
       "      <td>2021-01-03</td>\n",
       "      <td>2021-01-03</td>\n",
       "      <td>2021-01-03</td>\n",
       "      <td>2021-01-03</td>\n",
       "      <td>150.0</td>\n",
       "      <td>...</td>\n",
       "      <td>NaN</td>\n",
       "      <td>NaN</td>\n",
       "      <td>NaN</td>\n",
       "      <td>5ff1e194b6a9d73a3a9f1052</td>\n",
       "      <td>True</td>\n",
       "      <td>2021-01-03</td>\n",
       "      <td>2021-01-03</td>\n",
       "      <td>consumer</td>\n",
       "      <td>Email</td>\n",
       "      <td>WI</td>\n",
       "    </tr>\n",
       "    <tr>\n",
       "      <th>2</th>\n",
       "      <td>1</td>\n",
       "      <td>5ff1e1bb0a720f052300056b</td>\n",
       "      <td>150.0</td>\n",
       "      <td>Receipt number 5 completed, bonus point schedu...</td>\n",
       "      <td>2021-01-03</td>\n",
       "      <td>2021-01-03</td>\n",
       "      <td>2021-01-03</td>\n",
       "      <td>2021-01-03</td>\n",
       "      <td>2021-01-03</td>\n",
       "      <td>150.0</td>\n",
       "      <td>...</td>\n",
       "      <td>NaN</td>\n",
       "      <td>NaN</td>\n",
       "      <td>NaN</td>\n",
       "      <td>5ff1e194b6a9d73a3a9f1052</td>\n",
       "      <td>True</td>\n",
       "      <td>2021-01-03</td>\n",
       "      <td>2021-01-03</td>\n",
       "      <td>consumer</td>\n",
       "      <td>Email</td>\n",
       "      <td>WI</td>\n",
       "    </tr>\n",
       "    <tr>\n",
       "      <th>3</th>\n",
       "      <td>2</td>\n",
       "      <td>5ff1e1f10a720f052300057a</td>\n",
       "      <td>5.0</td>\n",
       "      <td>All-receipts receipt bonus</td>\n",
       "      <td>2021-01-03</td>\n",
       "      <td>2021-01-03</td>\n",
       "      <td>NaT</td>\n",
       "      <td>2021-01-03</td>\n",
       "      <td>NaT</td>\n",
       "      <td>5.0</td>\n",
       "      <td>...</td>\n",
       "      <td>NaN</td>\n",
       "      <td>NaN</td>\n",
       "      <td>NaN</td>\n",
       "      <td>5ff1e1f1cfcf6c399c274b0b</td>\n",
       "      <td>True</td>\n",
       "      <td>2021-01-03</td>\n",
       "      <td>2021-01-03</td>\n",
       "      <td>consumer</td>\n",
       "      <td>Email</td>\n",
       "      <td>WI</td>\n",
       "    </tr>\n",
       "    <tr>\n",
       "      <th>4</th>\n",
       "      <td>3</td>\n",
       "      <td>5ff1e1ee0a7214ada100056f</td>\n",
       "      <td>5.0</td>\n",
       "      <td>All-receipts receipt bonus</td>\n",
       "      <td>2021-01-03</td>\n",
       "      <td>2021-01-03</td>\n",
       "      <td>2021-01-03</td>\n",
       "      <td>2021-01-03</td>\n",
       "      <td>2021-01-03</td>\n",
       "      <td>5.0</td>\n",
       "      <td>...</td>\n",
       "      <td>NaN</td>\n",
       "      <td>NaN</td>\n",
       "      <td>NaN</td>\n",
       "      <td>5ff1e1eacfcf6c399c274ae6</td>\n",
       "      <td>True</td>\n",
       "      <td>2021-01-03</td>\n",
       "      <td>2021-01-03</td>\n",
       "      <td>consumer</td>\n",
       "      <td>Email</td>\n",
       "      <td>WI</td>\n",
       "    </tr>\n",
       "  </tbody>\n",
       "</table>\n",
       "<p>5 rows × 57 columns</p>\n",
       "</div>"
      ],
      "text/plain": [
       "   index                     _id_x  bonusPointsEarned  \\\n",
       "0      0  5ff1e1eb0a720f0523000575              500.0   \n",
       "1      1  5ff1e1bb0a720f052300056b              150.0   \n",
       "2      1  5ff1e1bb0a720f052300056b              150.0   \n",
       "3      2  5ff1e1f10a720f052300057a                5.0   \n",
       "4      3  5ff1e1ee0a7214ada100056f                5.0   \n",
       "\n",
       "                             bonusPointsEarnedReason  createDate dateScanned  \\\n",
       "0  Receipt number 2 completed, bonus point schedu...  2021-01-03  2021-01-03   \n",
       "1  Receipt number 5 completed, bonus point schedu...  2021-01-03  2021-01-03   \n",
       "2  Receipt number 5 completed, bonus point schedu...  2021-01-03  2021-01-03   \n",
       "3                         All-receipts receipt bonus  2021-01-03  2021-01-03   \n",
       "4                         All-receipts receipt bonus  2021-01-03  2021-01-03   \n",
       "\n",
       "  finishedDate  modifyDate pointsAwardedDate  pointsEarned  ...  \\\n",
       "0   2021-01-03  2021-01-03        2021-01-03         500.0  ...   \n",
       "1   2021-01-03  2021-01-03        2021-01-03         150.0  ...   \n",
       "2   2021-01-03  2021-01-03        2021-01-03         150.0  ...   \n",
       "3          NaT  2021-01-03               NaT           5.0  ...   \n",
       "4   2021-01-03  2021-01-03        2021-01-03           5.0  ...   \n",
       "\n",
       "  rewardsReceiptItemList.priceAfterCoupon  \\\n",
       "0                                     NaN   \n",
       "1                                     NaN   \n",
       "2                                     NaN   \n",
       "3                                     NaN   \n",
       "4                                     NaN   \n",
       "\n",
       "   rewardsReceiptItemList.metabriteCampaignId brandCode  \\\n",
       "0                                         NaN       NaN   \n",
       "1                                         NaN       NaN   \n",
       "2                                         NaN       NaN   \n",
       "3                                         NaN       NaN   \n",
       "4                                         NaN       NaN   \n",
       "\n",
       "                      _id_y active createdDate   lastLogin      role  \\\n",
       "0  5ff1e1eacfcf6c399c274ae6   True  2021-01-03  2021-01-03  consumer   \n",
       "1  5ff1e194b6a9d73a3a9f1052   True  2021-01-03  2021-01-03  consumer   \n",
       "2  5ff1e194b6a9d73a3a9f1052   True  2021-01-03  2021-01-03  consumer   \n",
       "3  5ff1e1f1cfcf6c399c274b0b   True  2021-01-03  2021-01-03  consumer   \n",
       "4  5ff1e1eacfcf6c399c274ae6   True  2021-01-03  2021-01-03  consumer   \n",
       "\n",
       "  signUpSource state  \n",
       "0        Email    WI  \n",
       "1        Email    WI  \n",
       "2        Email    WI  \n",
       "3        Email    WI  \n",
       "4        Email    WI  \n",
       "\n",
       "[5 rows x 57 columns]"
      ]
     },
     "execution_count": 24,
     "metadata": {},
     "output_type": "execute_result"
    }
   ],
   "source": [
    "receipts_brands_users.head()"
   ]
  },
  {
   "cell_type": "code",
   "execution_count": 53,
   "id": "424cd491-5ea2-427b-adab-6ec8b3754f5d",
   "metadata": {},
   "outputs": [
    {
     "data": {
      "text/plain": [
       "brandCode    6752\n",
       "dtype: int64"
      ]
     },
     "execution_count": 53,
     "metadata": {},
     "output_type": "execute_result"
    }
   ],
   "source": [
    "# there are lots of null values in brandCode\n",
    "receipts_brands_users[['brandCode']].isna().sum()"
   ]
  },
  {
   "cell_type": "code",
   "execution_count": 26,
   "id": "704091e1-a8aa-4f5a-9552-51b8cbb2e560",
   "metadata": {},
   "outputs": [
    {
     "data": {
      "text/plain": [
       "_id_y    2610\n",
       "dtype: int64"
      ]
     },
     "execution_count": 26,
     "metadata": {},
     "output_type": "execute_result"
    }
   ],
   "source": [
    "#_id_y represents the user_id in Users table\n",
    "receipts_brands_users[['_id_y']].isna().sum()"
   ]
  },
  {
   "cell_type": "markdown",
   "id": "fca137ed-a2b7-4056-89e4-45c1bbd028bb",
   "metadata": {},
   "source": [
    "## 1. check null percentage"
   ]
  },
  {
   "cell_type": "code",
   "execution_count": 27,
   "id": "d6480668-f297-4d34-8327-d24e4370ae99",
   "metadata": {},
   "outputs": [],
   "source": [
    "def null_percentage_calc(df, width, height, show_plot=True):  \n",
    "    null_percentage = round((df.isna().sum()/len(df))*100, 2).to_frame().rename(columns={0:'percentage'}).sort_values(by='percentage', ascending=False)\n",
    "    if show_plot == True:\n",
    "        plt.figure(figsize=(width, height))\n",
    "        null_percentage.plot(kind='barh')\n",
    "        plt.xlabel(\"Null Value Percentage\")\n",
    "        plt.ylabel(\"Column Names\")\n",
    "    return null_percentage\n"
   ]
  },
  {
   "cell_type": "markdown",
   "id": "d60feb38-b9ee-4c66-9066-5caf5b541299",
   "metadata": {},
   "source": [
    "### Brand Data Null Value Percentage"
   ]
  },
  {
   "cell_type": "code",
   "execution_count": 28,
   "id": "e5168e17-9aa6-49e5-b916-5f45613fff6d",
   "metadata": {},
   "outputs": [
    {
     "data": {
      "text/html": [
       "<div>\n",
       "<style scoped>\n",
       "    .dataframe tbody tr th:only-of-type {\n",
       "        vertical-align: middle;\n",
       "    }\n",
       "\n",
       "    .dataframe tbody tr th {\n",
       "        vertical-align: top;\n",
       "    }\n",
       "\n",
       "    .dataframe thead th {\n",
       "        text-align: right;\n",
       "    }\n",
       "</style>\n",
       "<table border=\"1\" class=\"dataframe\">\n",
       "  <thead>\n",
       "    <tr style=\"text-align: right;\">\n",
       "      <th></th>\n",
       "      <th>percentage</th>\n",
       "    </tr>\n",
       "  </thead>\n",
       "  <tbody>\n",
       "    <tr>\n",
       "      <th>categoryCode</th>\n",
       "      <td>55.70</td>\n",
       "    </tr>\n",
       "    <tr>\n",
       "      <th>topBrand</th>\n",
       "      <td>52.44</td>\n",
       "    </tr>\n",
       "    <tr>\n",
       "      <th>brandCode</th>\n",
       "      <td>20.05</td>\n",
       "    </tr>\n",
       "    <tr>\n",
       "      <th>category</th>\n",
       "      <td>13.28</td>\n",
       "    </tr>\n",
       "    <tr>\n",
       "      <th>_id</th>\n",
       "      <td>0.00</td>\n",
       "    </tr>\n",
       "    <tr>\n",
       "      <th>barcode</th>\n",
       "      <td>0.00</td>\n",
       "    </tr>\n",
       "    <tr>\n",
       "      <th>name</th>\n",
       "      <td>0.00</td>\n",
       "    </tr>\n",
       "    <tr>\n",
       "      <th>cpg.$ref</th>\n",
       "      <td>0.00</td>\n",
       "    </tr>\n",
       "    <tr>\n",
       "      <th>cpg.$id.$oid</th>\n",
       "      <td>0.00</td>\n",
       "    </tr>\n",
       "  </tbody>\n",
       "</table>\n",
       "</div>"
      ],
      "text/plain": [
       "              percentage\n",
       "categoryCode       55.70\n",
       "topBrand           52.44\n",
       "brandCode          20.05\n",
       "category           13.28\n",
       "_id                 0.00\n",
       "barcode             0.00\n",
       "name                0.00\n",
       "cpg.$ref            0.00\n",
       "cpg.$id.$oid        0.00"
      ]
     },
     "execution_count": 28,
     "metadata": {},
     "output_type": "execute_result"
    },
    {
     "data": {
      "text/plain": [
       "<Figure size 720x576 with 0 Axes>"
      ]
     },
     "metadata": {},
     "output_type": "display_data"
    },
    {
     "data": {
      "image/png": "[encoded data removed]",
      "text/plain": [
       "<Figure size 432x288 with 1 Axes>"
      ]
     },
     "metadata": {
      "needs_background": "light"
     },
     "output_type": "display_data"
    }
   ],
   "source": [
    "null_percentage_calc(brands_final, 10, 8)"
   ]
  },
  {
   "cell_type": "markdown",
   "id": "157627c7-d17c-4ce8-aa4e-cd053164f46a",
   "metadata": {},
   "source": [
    "### Users Data Null Value Percentage"
   ]
  },
  {
   "cell_type": "code",
   "execution_count": 29,
   "id": "77552e5f-80db-43ca-a9fe-792fb91208cb",
   "metadata": {},
   "outputs": [
    {
     "data": {
      "text/html": [
       "<div>\n",
       "<style scoped>\n",
       "    .dataframe tbody tr th:only-of-type {\n",
       "        vertical-align: middle;\n",
       "    }\n",
       "\n",
       "    .dataframe tbody tr th {\n",
       "        vertical-align: top;\n",
       "    }\n",
       "\n",
       "    .dataframe thead th {\n",
       "        text-align: right;\n",
       "    }\n",
       "</style>\n",
       "<table border=\"1\" class=\"dataframe\">\n",
       "  <thead>\n",
       "    <tr style=\"text-align: right;\">\n",
       "      <th></th>\n",
       "      <th>percentage</th>\n",
       "    </tr>\n",
       "  </thead>\n",
       "  <tbody>\n",
       "    <tr>\n",
       "      <th>lastLogin</th>\n",
       "      <td>12.53</td>\n",
       "    </tr>\n",
       "    <tr>\n",
       "      <th>state</th>\n",
       "      <td>11.31</td>\n",
       "    </tr>\n",
       "    <tr>\n",
       "      <th>signUpSource</th>\n",
       "      <td>9.70</td>\n",
       "    </tr>\n",
       "    <tr>\n",
       "      <th>_id</th>\n",
       "      <td>0.00</td>\n",
       "    </tr>\n",
       "    <tr>\n",
       "      <th>active</th>\n",
       "      <td>0.00</td>\n",
       "    </tr>\n",
       "    <tr>\n",
       "      <th>createdDate</th>\n",
       "      <td>0.00</td>\n",
       "    </tr>\n",
       "    <tr>\n",
       "      <th>role</th>\n",
       "      <td>0.00</td>\n",
       "    </tr>\n",
       "  </tbody>\n",
       "</table>\n",
       "</div>"
      ],
      "text/plain": [
       "              percentage\n",
       "lastLogin          12.53\n",
       "state              11.31\n",
       "signUpSource        9.70\n",
       "_id                 0.00\n",
       "active              0.00\n",
       "createdDate         0.00\n",
       "role                0.00"
      ]
     },
     "execution_count": 29,
     "metadata": {},
     "output_type": "execute_result"
    },
    {
     "data": {
      "text/plain": [
       "<Figure size 720x576 with 0 Axes>"
      ]
     },
     "metadata": {},
     "output_type": "display_data"
    },
    {
     "data": {
      "image/png": "[encoded data removed]",
      "text/plain": [
       "<Figure size 432x288 with 1 Axes>"
      ]
     },
     "metadata": {
      "needs_background": "light"
     },
     "output_type": "display_data"
    }
   ],
   "source": [
    "null_percentage_calc(users, 10, 8)"
   ]
  },
  {
   "cell_type": "markdown",
   "id": "ce019ac4-aa28-4531-ad34-5901e47abde0",
   "metadata": {},
   "source": [
    "### Receipts Data (columns except data in `rewardsReceiptItemList` column) Null Value Percentage"
   ]
  },
  {
   "cell_type": "code",
   "execution_count": 30,
   "id": "7dbafe68-b24b-4dda-8793-abc869317cf6",
   "metadata": {},
   "outputs": [
    {
     "data": {
      "text/html": [
       "<div>\n",
       "<style scoped>\n",
       "    .dataframe tbody tr th:only-of-type {\n",
       "        vertical-align: middle;\n",
       "    }\n",
       "\n",
       "    .dataframe tbody tr th {\n",
       "        vertical-align: top;\n",
       "    }\n",
       "\n",
       "    .dataframe thead th {\n",
       "        text-align: right;\n",
       "    }\n",
       "</style>\n",
       "<table border=\"1\" class=\"dataframe\">\n",
       "  <thead>\n",
       "    <tr style=\"text-align: right;\">\n",
       "      <th></th>\n",
       "      <th>percentage</th>\n",
       "    </tr>\n",
       "  </thead>\n",
       "  <tbody>\n",
       "    <tr>\n",
       "      <th>finishedDate</th>\n",
       "      <td>19.12</td>\n",
       "    </tr>\n",
       "    <tr>\n",
       "      <th>bonusPointsEarned</th>\n",
       "      <td>18.98</td>\n",
       "    </tr>\n",
       "    <tr>\n",
       "      <th>bonusPointsEarnedReason</th>\n",
       "      <td>18.98</td>\n",
       "    </tr>\n",
       "    <tr>\n",
       "      <th>pointsAwardedDate</th>\n",
       "      <td>17.63</td>\n",
       "    </tr>\n",
       "    <tr>\n",
       "      <th>pointsEarned</th>\n",
       "      <td>15.28</td>\n",
       "    </tr>\n",
       "    <tr>\n",
       "      <th>purchasedItemCount</th>\n",
       "      <td>6.56</td>\n",
       "    </tr>\n",
       "    <tr>\n",
       "      <th>purchaseDate</th>\n",
       "      <td>6.21</td>\n",
       "    </tr>\n",
       "    <tr>\n",
       "      <th>totalSpent</th>\n",
       "      <td>5.89</td>\n",
       "    </tr>\n",
       "    <tr>\n",
       "      <th>index</th>\n",
       "      <td>0.00</td>\n",
       "    </tr>\n",
       "    <tr>\n",
       "      <th>_id</th>\n",
       "      <td>0.00</td>\n",
       "    </tr>\n",
       "    <tr>\n",
       "      <th>createDate</th>\n",
       "      <td>0.00</td>\n",
       "    </tr>\n",
       "    <tr>\n",
       "      <th>dateScanned</th>\n",
       "      <td>0.00</td>\n",
       "    </tr>\n",
       "    <tr>\n",
       "      <th>modifyDate</th>\n",
       "      <td>0.00</td>\n",
       "    </tr>\n",
       "    <tr>\n",
       "      <th>rewardsReceiptStatus</th>\n",
       "      <td>0.00</td>\n",
       "    </tr>\n",
       "    <tr>\n",
       "      <th>userId</th>\n",
       "      <td>0.00</td>\n",
       "    </tr>\n",
       "  </tbody>\n",
       "</table>\n",
       "</div>"
      ],
      "text/plain": [
       "                         percentage\n",
       "finishedDate                  19.12\n",
       "bonusPointsEarned             18.98\n",
       "bonusPointsEarnedReason       18.98\n",
       "pointsAwardedDate             17.63\n",
       "pointsEarned                  15.28\n",
       "purchasedItemCount             6.56\n",
       "purchaseDate                   6.21\n",
       "totalSpent                     5.89\n",
       "index                          0.00\n",
       "_id                            0.00\n",
       "createDate                     0.00\n",
       "dateScanned                    0.00\n",
       "modifyDate                     0.00\n",
       "rewardsReceiptStatus           0.00\n",
       "userId                         0.00"
      ]
     },
     "execution_count": 30,
     "metadata": {},
     "output_type": "execute_result"
    },
    {
     "data": {
      "text/plain": [
       "<Figure size 720x576 with 0 Axes>"
      ]
     },
     "metadata": {},
     "output_type": "display_data"
    },
    {
     "data": {
      "image/png": "[encoded data removed]",
      "text/plain": [
       "<Figure size 432x288 with 1 Axes>"
      ]
     },
     "metadata": {
      "needs_background": "light"
     },
     "output_type": "display_data"
    }
   ],
   "source": [
    "null_percentage_calc(receipts_final[['index', '_id', 'bonusPointsEarned', 'bonusPointsEarnedReason','createDate', 'dateScanned', 'finishedDate', \n",
    "                                     'modifyDate','pointsAwardedDate', 'pointsEarned', 'purchaseDate','purchasedItemCount', 'rewardsReceiptStatus', 'totalSpent', 'userId']], 10, 8)"
   ]
  },
  {
   "cell_type": "markdown",
   "id": "9887dba4-5a72-4a3b-9aea-4d3f5cee5d7a",
   "metadata": {},
   "source": [
    "### Data in `rewardsReceiptItemList` Null Value Percentage"
   ]
  },
  {
   "cell_type": "code",
   "execution_count": 31,
   "id": "696ae300-6783-4fdc-8ecf-615bce925c72",
   "metadata": {},
   "outputs": [
    {
     "data": {
      "text/html": [
       "<div>\n",
       "<style scoped>\n",
       "    .dataframe tbody tr th:only-of-type {\n",
       "        vertical-align: middle;\n",
       "    }\n",
       "\n",
       "    .dataframe tbody tr th {\n",
       "        vertical-align: top;\n",
       "    }\n",
       "\n",
       "    .dataframe thead th {\n",
       "        text-align: right;\n",
       "    }\n",
       "</style>\n",
       "<table border=\"1\" class=\"dataframe\">\n",
       "  <thead>\n",
       "    <tr style=\"text-align: right;\">\n",
       "      <th></th>\n",
       "      <th>percentage</th>\n",
       "    </tr>\n",
       "  </thead>\n",
       "  <tbody>\n",
       "    <tr>\n",
       "      <th>rewardsReceiptItemList.deleted</th>\n",
       "      <td>99.88</td>\n",
       "    </tr>\n",
       "    <tr>\n",
       "      <th>rewardsReceiptItemList.originalMetaBriteItemPrice</th>\n",
       "      <td>99.88</td>\n",
       "    </tr>\n",
       "    <tr>\n",
       "      <th>rewardsReceiptItemList.originalFinalPrice</th>\n",
       "      <td>99.88</td>\n",
       "    </tr>\n",
       "    <tr>\n",
       "      <th>rewardsReceiptItemList.originalMetaBriteDescription</th>\n",
       "      <td>99.86</td>\n",
       "    </tr>\n",
       "    <tr>\n",
       "      <th>rewardsReceiptItemList.originalMetaBriteQuantityPurchased</th>\n",
       "      <td>99.80</td>\n",
       "    </tr>\n",
       "    <tr>\n",
       "      <th>rewardsReceiptItemList.originalMetaBriteBarcode</th>\n",
       "      <td>99.04</td>\n",
       "    </tr>\n",
       "    <tr>\n",
       "      <th>rewardsReceiptItemList.itemNumber</th>\n",
       "      <td>97.93</td>\n",
       "    </tr>\n",
       "    <tr>\n",
       "      <th>rewardsReceiptItemList.userFlaggedDescription</th>\n",
       "      <td>97.22</td>\n",
       "    </tr>\n",
       "    <tr>\n",
       "      <th>rewardsReceiptItemList.needsFetchReviewReason</th>\n",
       "      <td>97.03</td>\n",
       "    </tr>\n",
       "    <tr>\n",
       "      <th>rewardsReceiptItemList.competitorRewardsGroup</th>\n",
       "      <td>96.27</td>\n",
       "    </tr>\n",
       "    <tr>\n",
       "      <th>rewardsReceiptItemList.userFlaggedPrice</th>\n",
       "      <td>95.95</td>\n",
       "    </tr>\n",
       "    <tr>\n",
       "      <th>rewardsReceiptItemList.userFlaggedQuantity</th>\n",
       "      <td>95.95</td>\n",
       "    </tr>\n",
       "    <tr>\n",
       "      <th>rewardsReceiptItemList.userFlaggedNewItem</th>\n",
       "      <td>95.62</td>\n",
       "    </tr>\n",
       "    <tr>\n",
       "      <th>rewardsReceiptItemList.userFlaggedBarcode</th>\n",
       "      <td>95.43</td>\n",
       "    </tr>\n",
       "    <tr>\n",
       "      <th>rewardsReceiptItemList.pointsNotAwardedReason</th>\n",
       "      <td>95.39</td>\n",
       "    </tr>\n",
       "    <tr>\n",
       "      <th>rewardsReceiptItemList.preventTargetGapPoints</th>\n",
       "      <td>95.15</td>\n",
       "    </tr>\n",
       "    <tr>\n",
       "      <th>rewardsReceiptItemList.targetPrice</th>\n",
       "      <td>94.88</td>\n",
       "    </tr>\n",
       "    <tr>\n",
       "      <th>rewardsReceiptItemList.competitiveProduct</th>\n",
       "      <td>91.26</td>\n",
       "    </tr>\n",
       "    <tr>\n",
       "      <th>rewardsReceiptItemList.needsFetchReview</th>\n",
       "      <td>88.99</td>\n",
       "    </tr>\n",
       "    <tr>\n",
       "      <th>rewardsReceiptItemList.metabriteCampaignId</th>\n",
       "      <td>88.31</td>\n",
       "    </tr>\n",
       "    <tr>\n",
       "      <th>rewardsReceiptItemList.pointsEarned</th>\n",
       "      <td>87.44</td>\n",
       "    </tr>\n",
       "    <tr>\n",
       "      <th>rewardsReceiptItemList.priceAfterCoupon</th>\n",
       "      <td>87.05</td>\n",
       "    </tr>\n",
       "    <tr>\n",
       "      <th>rewardsReceiptItemList.pointsPayerId</th>\n",
       "      <td>82.83</td>\n",
       "    </tr>\n",
       "    <tr>\n",
       "      <th>rewardsReceiptItemList.rewardsGroup</th>\n",
       "      <td>76.55</td>\n",
       "    </tr>\n",
       "    <tr>\n",
       "      <th>rewardsReceiptItemList.rewardsProductPartnerId</th>\n",
       "      <td>69.26</td>\n",
       "    </tr>\n",
       "    <tr>\n",
       "      <th>rewardsReceiptItemList.brandCode</th>\n",
       "      <td>64.77</td>\n",
       "    </tr>\n",
       "    <tr>\n",
       "      <th>rewardsReceiptItemList.barcode</th>\n",
       "      <td>58.14</td>\n",
       "    </tr>\n",
       "    <tr>\n",
       "      <th>rewardsReceiptItemList.originalReceiptItemText</th>\n",
       "      <td>21.96</td>\n",
       "    </tr>\n",
       "    <tr>\n",
       "      <th>rewardsReceiptItemList.discountedItemPrice</th>\n",
       "      <td>21.84</td>\n",
       "    </tr>\n",
       "    <tr>\n",
       "      <th>rewardsReceiptItemList.description</th>\n",
       "      <td>11.12</td>\n",
       "    </tr>\n",
       "    <tr>\n",
       "      <th>rewardsReceiptItemList.quantityPurchased</th>\n",
       "      <td>8.32</td>\n",
       "    </tr>\n",
       "    <tr>\n",
       "      <th>rewardsReceiptItemList.itemPrice</th>\n",
       "      <td>8.32</td>\n",
       "    </tr>\n",
       "    <tr>\n",
       "      <th>rewardsReceiptItemList.finalPrice</th>\n",
       "      <td>8.32</td>\n",
       "    </tr>\n",
       "    <tr>\n",
       "      <th>rewardsReceiptItemList.partnerItemId</th>\n",
       "      <td>5.96</td>\n",
       "    </tr>\n",
       "  </tbody>\n",
       "</table>\n",
       "</div>"
      ],
      "text/plain": [
       "                                                    percentage\n",
       "rewardsReceiptItemList.deleted                           99.88\n",
       "rewardsReceiptItemList.originalMetaBriteItemPrice        99.88\n",
       "rewardsReceiptItemList.originalFinalPrice                99.88\n",
       "rewardsReceiptItemList.originalMetaBriteDescrip...       99.86\n",
       "rewardsReceiptItemList.originalMetaBriteQuantit...       99.80\n",
       "rewardsReceiptItemList.originalMetaBriteBarcode          99.04\n",
       "rewardsReceiptItemList.itemNumber                        97.93\n",
       "rewardsReceiptItemList.userFlaggedDescription            97.22\n",
       "rewardsReceiptItemList.needsFetchReviewReason            97.03\n",
       "rewardsReceiptItemList.competitorRewardsGroup            96.27\n",
       "rewardsReceiptItemList.userFlaggedPrice                  95.95\n",
       "rewardsReceiptItemList.userFlaggedQuantity               95.95\n",
       "rewardsReceiptItemList.userFlaggedNewItem                95.62\n",
       "rewardsReceiptItemList.userFlaggedBarcode                95.43\n",
       "rewardsReceiptItemList.pointsNotAwardedReason            95.39\n",
       "rewardsReceiptItemList.preventTargetGapPoints            95.15\n",
       "rewardsReceiptItemList.targetPrice                       94.88\n",
       "rewardsReceiptItemList.competitiveProduct                91.26\n",
       "rewardsReceiptItemList.needsFetchReview                  88.99\n",
       "rewardsReceiptItemList.metabriteCampaignId               88.31\n",
       "rewardsReceiptItemList.pointsEarned                      87.44\n",
       "rewardsReceiptItemList.priceAfterCoupon                  87.05\n",
       "rewardsReceiptItemList.pointsPayerId                     82.83\n",
       "rewardsReceiptItemList.rewardsGroup                      76.55\n",
       "rewardsReceiptItemList.rewardsProductPartnerId           69.26\n",
       "rewardsReceiptItemList.brandCode                         64.77\n",
       "rewardsReceiptItemList.barcode                           58.14\n",
       "rewardsReceiptItemList.originalReceiptItemText           21.96\n",
       "rewardsReceiptItemList.discountedItemPrice               21.84\n",
       "rewardsReceiptItemList.description                       11.12\n",
       "rewardsReceiptItemList.quantityPurchased                  8.32\n",
       "rewardsReceiptItemList.itemPrice                          8.32\n",
       "rewardsReceiptItemList.finalPrice                         8.32\n",
       "rewardsReceiptItemList.partnerItemId                      5.96"
      ]
     },
     "execution_count": 31,
     "metadata": {},
     "output_type": "execute_result"
    }
   ],
   "source": [
    "null_percentage_calc(receipts_final[[col for col in receipts_final if col.startswith('rewardsReceiptItemList')]],10, 8, False)"
   ]
  },
  {
   "cell_type": "markdown",
   "id": "0e9ba1d2-3405-4153-b8a7-cce101f02e8e",
   "metadata": {},
   "source": [
    "## 2.Check data distribution and find potential outliers"
   ]
  },
  {
   "cell_type": "code",
   "execution_count": 32,
   "id": "4c39be01-e316-4b78-885f-1fe84bfb1daa",
   "metadata": {},
   "outputs": [],
   "source": [
    "def plot_col_distribution(df, bins):\n",
    "    for col in df.columns:\n",
    "        if ((df[col].dtype) == 'float64'):\n",
    "            df[col].hist(bins=bins)\n",
    "            plt.title(col + \" Distribution\")\n",
    "            plt.show()\n",
    "\n",
    "def boxplot(df):\n",
    "    ax = sns.boxplot(data=df, orient=\"h\", palette=\"Set2\")"
   ]
  },
  {
   "cell_type": "markdown",
   "id": "81d6159c-1ac7-4c8e-8d56-c24841ee38ce",
   "metadata": {},
   "source": [
    "### Distribution for Numerical Data in Receipts"
   ]
  },
  {
   "cell_type": "code",
   "execution_count": 33,
   "id": "9131a83e-b3db-41ff-b808-5c5168b655de",
   "metadata": {},
   "outputs": [
    {
     "data": {
      "image/png": "[encoded data removed]",
      "text/plain": [
       "<Figure size 432x288 with 1 Axes>"
      ]
     },
     "metadata": {
      "needs_background": "light"
     },
     "output_type": "display_data"
    },
    {
     "data": {
      "image/png": "[encoded data removed]",
      "text/plain": [
       "<Figure size 432x288 with 1 Axes>"
      ]
     },
     "metadata": {
      "needs_background": "light"
     },
     "output_type": "display_data"
    },
    {
     "data": {
      "image/png": "[encoded data removed]",
      "text/plain": [
       "<Figure size 432x288 with 1 Axes>"
      ]
     },
     "metadata": {
      "needs_background": "light"
     },
     "output_type": "display_data"
    },
    {
     "data": {
      "image/png": "[encoded data removed]",
      "text/plain": [
       "<Figure size 432x288 with 1 Axes>"
      ]
     },
     "metadata": {
      "needs_background": "light"
     },
     "output_type": "display_data"
    },
    {
     "data": {
      "image/png": "[encoded data removed]",
      "text/plain": [
       "<Figure size 432x288 with 1 Axes>"
      ]
     },
     "metadata": {
      "needs_background": "light"
     },
     "output_type": "display_data"
    },
    {
     "data": {
      "image/png": "[encoded data removed]",
      "text/plain": [
       "<Figure size 432x288 with 1 Axes>"
      ]
     },
     "metadata": {
      "needs_background": "light"
     },
     "output_type": "display_data"
    },
    {
     "data": {
      "image/png": "[encoded data removed]",
      "text/plain": [
       "<Figure size 432x288 with 1 Axes>"
      ]
     },
     "metadata": {
      "needs_background": "light"
     },
     "output_type": "display_data"
    }
   ],
   "source": [
    "plot_col_distribution(receipts_final, 10)"
   ]
  },
  {
   "cell_type": "markdown",
   "id": "f0a64907-835f-4e24-82b5-d7e12db72fb7",
   "metadata": {},
   "source": [
    "### Boxplot for Numerical Data in Receipts"
   ]
  },
  {
   "cell_type": "code",
   "execution_count": 34,
   "id": "565eeafd-4b15-480d-be4a-2d0320789048",
   "metadata": {},
   "outputs": [
    {
     "data": {
      "image/png": "[encoded data removed]",
      "text/plain": [
       "<Figure size 432x288 with 1 Axes>"
      ]
     },
     "metadata": {
      "needs_background": "light"
     },
     "output_type": "display_data"
    }
   ],
   "source": [
    "boxplot(receipts_final)"
   ]
  },
  {
   "cell_type": "code",
   "execution_count": 35,
   "id": "dc93716c-4eae-49d1-8188-fb7daff721ba",
   "metadata": {},
   "outputs": [
    {
     "data": {
      "text/plain": [
       "<AxesSubplot:xlabel='purchasedItemCount', ylabel='totalSpent'>"
      ]
     },
     "execution_count": 35,
     "metadata": {},
     "output_type": "execute_result"
    },
    {
     "data": {
      "image/png": "[encoded data removed]",
      "text/plain": [
       "<Figure size 432x288 with 1 Axes>"
      ]
     },
     "metadata": {
      "needs_background": "light"
     },
     "output_type": "display_data"
    }
   ],
   "source": [
    "#check whether purchasedItemCount and totalSpent have positive correlation\n",
    "sns.regplot(x=\"purchasedItemCount\", y=\"totalSpent\", data=receipts_final)"
   ]
  },
  {
   "cell_type": "code",
   "execution_count": 36,
   "id": "d529c034-26d1-49b5-b954-d0f3beca40cb",
   "metadata": {},
   "outputs": [
    {
     "data": {
      "text/html": [
       "<div>\n",
       "<style scoped>\n",
       "    .dataframe tbody tr th:only-of-type {\n",
       "        vertical-align: middle;\n",
       "    }\n",
       "\n",
       "    .dataframe tbody tr th {\n",
       "        vertical-align: top;\n",
       "    }\n",
       "\n",
       "    .dataframe thead th {\n",
       "        text-align: right;\n",
       "    }\n",
       "</style>\n",
       "<table border=\"1\" class=\"dataframe\">\n",
       "  <thead>\n",
       "    <tr style=\"text-align: right;\">\n",
       "      <th></th>\n",
       "      <th>index</th>\n",
       "      <th>bonusPointsEarned</th>\n",
       "      <th>pointsEarned</th>\n",
       "      <th>purchasedItemCount</th>\n",
       "      <th>totalSpent</th>\n",
       "      <th>rewardsReceiptItemList.quantityPurchased</th>\n",
       "      <th>rewardsReceiptItemList.userFlaggedQuantity</th>\n",
       "      <th>rewardsReceiptItemList.originalMetaBriteQuantityPurchased</th>\n",
       "    </tr>\n",
       "  </thead>\n",
       "  <tbody>\n",
       "    <tr>\n",
       "      <th>count</th>\n",
       "      <td>7381.000000</td>\n",
       "      <td>5980.000000</td>\n",
       "      <td>6253.000000</td>\n",
       "      <td>6897.000000</td>\n",
       "      <td>6946.000000</td>\n",
       "      <td>6767.000000</td>\n",
       "      <td>299.000000</td>\n",
       "      <td>15.000000</td>\n",
       "    </tr>\n",
       "    <tr>\n",
       "      <th>mean</th>\n",
       "      <td>422.701937</td>\n",
       "      <td>625.901839</td>\n",
       "      <td>2175.583688</td>\n",
       "      <td>240.764680</td>\n",
       "      <td>1368.577206</td>\n",
       "      <td>1.386139</td>\n",
       "      <td>1.872910</td>\n",
       "      <td>1.200000</td>\n",
       "    </tr>\n",
       "    <tr>\n",
       "      <th>std</th>\n",
       "      <td>176.929482</td>\n",
       "      <td>244.395911</td>\n",
       "      <td>2175.733326</td>\n",
       "      <td>221.805453</td>\n",
       "      <td>1588.959342</td>\n",
       "      <td>1.204363</td>\n",
       "      <td>1.314823</td>\n",
       "      <td>0.414039</td>\n",
       "    </tr>\n",
       "    <tr>\n",
       "      <th>min</th>\n",
       "      <td>0.000000</td>\n",
       "      <td>5.000000</td>\n",
       "      <td>0.000000</td>\n",
       "      <td>0.000000</td>\n",
       "      <td>0.000000</td>\n",
       "      <td>1.000000</td>\n",
       "      <td>1.000000</td>\n",
       "      <td>1.000000</td>\n",
       "    </tr>\n",
       "    <tr>\n",
       "      <th>25%</th>\n",
       "      <td>318.000000</td>\n",
       "      <td>750.000000</td>\n",
       "      <td>750.000000</td>\n",
       "      <td>93.000000</td>\n",
       "      <td>373.550000</td>\n",
       "      <td>1.000000</td>\n",
       "      <td>1.000000</td>\n",
       "      <td>1.000000</td>\n",
       "    </tr>\n",
       "    <tr>\n",
       "      <th>50%</th>\n",
       "      <td>425.000000</td>\n",
       "      <td>750.000000</td>\n",
       "      <td>1447.000000</td>\n",
       "      <td>167.000000</td>\n",
       "      <td>776.790000</td>\n",
       "      <td>1.000000</td>\n",
       "      <td>1.000000</td>\n",
       "      <td>1.000000</td>\n",
       "    </tr>\n",
       "    <tr>\n",
       "      <th>75%</th>\n",
       "      <td>462.000000</td>\n",
       "      <td>750.000000</td>\n",
       "      <td>2685.800000</td>\n",
       "      <td>335.000000</td>\n",
       "      <td>1183.100000</td>\n",
       "      <td>1.000000</td>\n",
       "      <td>3.000000</td>\n",
       "      <td>1.000000</td>\n",
       "    </tr>\n",
       "    <tr>\n",
       "      <th>max</th>\n",
       "      <td>1118.000000</td>\n",
       "      <td>750.000000</td>\n",
       "      <td>10199.800000</td>\n",
       "      <td>689.000000</td>\n",
       "      <td>4721.950000</td>\n",
       "      <td>17.000000</td>\n",
       "      <td>5.000000</td>\n",
       "      <td>2.000000</td>\n",
       "    </tr>\n",
       "  </tbody>\n",
       "</table>\n",
       "</div>"
      ],
      "text/plain": [
       "             index  bonusPointsEarned  pointsEarned  purchasedItemCount  \\\n",
       "count  7381.000000        5980.000000   6253.000000         6897.000000   \n",
       "mean    422.701937         625.901839   2175.583688          240.764680   \n",
       "std     176.929482         244.395911   2175.733326          221.805453   \n",
       "min       0.000000           5.000000      0.000000            0.000000   \n",
       "25%     318.000000         750.000000    750.000000           93.000000   \n",
       "50%     425.000000         750.000000   1447.000000          167.000000   \n",
       "75%     462.000000         750.000000   2685.800000          335.000000   \n",
       "max    1118.000000         750.000000  10199.800000          689.000000   \n",
       "\n",
       "        totalSpent  rewardsReceiptItemList.quantityPurchased  \\\n",
       "count  6946.000000                               6767.000000   \n",
       "mean   1368.577206                                  1.386139   \n",
       "std    1588.959342                                  1.204363   \n",
       "min       0.000000                                  1.000000   \n",
       "25%     373.550000                                  1.000000   \n",
       "50%     776.790000                                  1.000000   \n",
       "75%    1183.100000                                  1.000000   \n",
       "max    4721.950000                                 17.000000   \n",
       "\n",
       "       rewardsReceiptItemList.userFlaggedQuantity  \\\n",
       "count                                  299.000000   \n",
       "mean                                     1.872910   \n",
       "std                                      1.314823   \n",
       "min                                      1.000000   \n",
       "25%                                      1.000000   \n",
       "50%                                      1.000000   \n",
       "75%                                      3.000000   \n",
       "max                                      5.000000   \n",
       "\n",
       "       rewardsReceiptItemList.originalMetaBriteQuantityPurchased  \n",
       "count                                          15.000000          \n",
       "mean                                            1.200000          \n",
       "std                                             0.414039          \n",
       "min                                             1.000000          \n",
       "25%                                             1.000000          \n",
       "50%                                             1.000000          \n",
       "75%                                             1.000000          \n",
       "max                                             2.000000          "
      ]
     },
     "execution_count": 36,
     "metadata": {},
     "output_type": "execute_result"
    }
   ],
   "source": [
    "receipts_final.describe()"
   ]
  },
  {
   "cell_type": "markdown",
   "id": "ebef14c6-2aa6-45c0-a5d7-24967efadc31",
   "metadata": {},
   "source": [
    "# Write a query that directly answers a predetermined question from a business stakeholder"
   ]
  },
  {
   "cell_type": "markdown",
   "id": "e2909057-165e-42ed-83a8-cf9c543cad9b",
   "metadata": {},
   "source": [
    "Before pulling the data from SQL, I drop the rows where `totalSpent` and `purchasedItemCount` in Receipts is null, because when calculating the average spend of total item purchased, filling in null values will make the analysis inaccurate. "
   ]
  },
  {
   "cell_type": "code",
   "execution_count": 37,
   "id": "9ddc836b-da79-4d95-8ae7-1f5b7fea01e6",
   "metadata": {},
   "outputs": [],
   "source": [
    "receipts_final = receipts_final.dropna(subset=['totalSpent', 'purchasedItemCount'], how='all')\n",
    "receipts_final = receipts_final.dropna(subset=['purchasedItemCount'], how='all')"
   ]
  },
  {
   "cell_type": "markdown",
   "id": "1ca3082d-321f-4b36-b008-28befbc9f185",
   "metadata": {},
   "source": [
    "Connect with SQLite database through SQL Alchemy python (https://docs.sqlalchemy.org/en/14/dialects/sqlite.html) to implement the SQL database for the queries."
   ]
  },
  {
   "cell_type": "code",
   "execution_count": 38,
   "id": "603ba8cd-3f89-45d0-bc44-c7de923223be",
   "metadata": {},
   "outputs": [],
   "source": [
    "engine = create_engine('sqlite://', echo=False)"
   ]
  },
  {
   "cell_type": "code",
   "execution_count": 39,
   "id": "8778af93-a10c-4b4c-8bd4-4c057b0d0484",
   "metadata": {},
   "outputs": [],
   "source": [
    "users.drop_duplicates(subset=['_id']).to_sql('users',con=engine)"
   ]
  },
  {
   "cell_type": "code",
   "execution_count": 40,
   "id": "1e640005-d8f3-4462-93d3-8bc66f161340",
   "metadata": {},
   "outputs": [
    {
     "name": "stderr",
     "output_type": "stream",
     "text": [
      "<ipython-input-40-10e76c51b192>:1: FutureWarning: The default value of regex will change from True to False in a future version. In addition, single character regular expressions will*not* be treated as literal strings when regex=True.\n",
      "  receipts_final.columns = receipts_final.columns.str.replace(\".\", \"_\")\n"
     ]
    }
   ],
   "source": [
    "receipts_final.columns = receipts_final.columns.str.replace(\".\", \"_\")"
   ]
  },
  {
   "cell_type": "code",
   "execution_count": 41,
   "id": "1110e6ea-3696-495e-a0ff-48b5788219ae",
   "metadata": {},
   "outputs": [],
   "source": [
    "receipts_final.to_sql('receipts',con=engine)"
   ]
  },
  {
   "cell_type": "code",
   "execution_count": 42,
   "id": "96db369b-19a8-4835-a115-351cede66442",
   "metadata": {},
   "outputs": [],
   "source": [
    "brands_final.to_sql('brands',con=engine)"
   ]
  },
  {
   "cell_type": "code",
   "execution_count": 43,
   "id": "ae3af022-0d6f-4205-a755-39028b7b13ef",
   "metadata": {},
   "outputs": [
    {
     "data": {
      "text/plain": [
       "array(['FINISHED', 'REJECTED', 'FLAGGED', 'SUBMITTED', 'PENDING'],\n",
       "      dtype=object)"
      ]
     },
     "execution_count": 43,
     "metadata": {},
     "output_type": "execute_result"
    }
   ],
   "source": [
    "receipts.rewardsReceiptStatus.unique()"
   ]
  },
  {
   "cell_type": "markdown",
   "id": "e9e65e0c-6d5b-4bfa-a095-3fd65e23a818",
   "metadata": {},
   "source": [
    "### When considering average spend from receipts with 'rewardsReceiptStatus’ of ‘Accepted’ or ‘Rejected’, which is greater?"
   ]
  },
  {
   "cell_type": "markdown",
   "id": "7e003934-ccdb-4dba-925c-0e1f31f2a469",
   "metadata": {},
   "source": [
    "Since I didn't see 'Accepted' as a status in rewardsReceiptStatus, I'm assuming `FINISHED` represents `Accepted`. I will follow up with stakeholders to see whether I'm interpreting it correctly in the email."
   ]
  },
  {
   "cell_type": "code",
   "execution_count": 44,
   "id": "9120f102-a599-47c8-9a2a-91bc84f7aa9f",
   "metadata": {},
   "outputs": [
    {
     "data": {
      "text/plain": [
       "[('FINISHED', 1244.37), ('REJECTED', 19.54)]"
      ]
     },
     "execution_count": 44,
     "metadata": {},
     "output_type": "execute_result"
    }
   ],
   "source": [
    "engine.execute('''SELECT rewardsReceiptStatus, ROUND(AVG(totalSpent), 2) as avg_spent\n",
    "                  FROM receipts\n",
    "                  WHERE rewardsReceiptStatus = 'FINISHED' or rewardsReceiptStatus = 'REJECTED'\n",
    "                  GROUP BY rewardsReceiptStatus''').fetchall()"
   ]
  },
  {
   "cell_type": "markdown",
   "id": "ca53eb36-5a51-4877-aad3-0ec3c7fa5b94",
   "metadata": {},
   "source": [
    "### When considering total number of items purchased from receipts with rewardsReceiptStatus’ of ‘Accepted’ or ‘Rejected’, which is greater?"
   ]
  },
  {
   "cell_type": "code",
   "execution_count": 45,
   "id": "d7701122-bfec-4874-8a16-615e968d45ae",
   "metadata": {},
   "outputs": [
    {
     "data": {
      "text/plain": [
       "[('FINISHED', 1364998.0), ('REJECTED', 740.0)]"
      ]
     },
     "execution_count": 45,
     "metadata": {},
     "output_type": "execute_result"
    }
   ],
   "source": [
    "engine.execute('''SELECT rewardsReceiptStatus, ROUND(SUM(purchasedItemCount), 2) as total_num_purchased\n",
    "                  FROM receipts\n",
    "                  WHERE rewardsReceiptStatus = 'FINISHED' or rewardsReceiptStatus = 'REJECTED'\n",
    "                  GROUP BY rewardsReceiptStatus''').fetchall()"
   ]
  },
  {
   "cell_type": "markdown",
   "id": "cf4f3791-9afe-4fb7-b43b-3e01d30328e0",
   "metadata": {},
   "source": [
    "# Communicate with Stakeholders"
   ]
  },
  {
   "cell_type": "markdown",
   "id": "be19d81a-7045-4b71-911e-11e8bedf322a",
   "metadata": {},
   "source": [
    "Hi all,\n",
    "\n",
    "I've been working on the analysis of finding the average spend and total number of items purchased whose rewardsReceiptStatus is **Accepted or Rejected**. I want to update my progress and get clarity on some questions.\n",
    "\n",
    "I found that the average spend where rewardsReceiptStatus = **Finished is 1244.37, Rejected is 19.54**, and the total number of items purchased for **Finished is 1364998, Rejected is 740**. Both average spend and total number of items purchased with rewardsReceiptStatus = FINISHED is much higher than items with rewardsReceiptStatus = REJECTED. \n",
    "\n",
    "Questions I want to clarify:\n",
    "\n",
    "1. Data Definition Clarification For The Analysis:\n",
    "\n",
    "In the current analysis, I’m assuming that **Finished = Accepted** because there are no rows  where rewardsReceiptStatus is **Accepted**. Correct me if I am wrong, and I will update the analysis.\n",
    "\n",
    "2. Data Format:\n",
    "\n",
    "The current data is not well structured. For example, rewardsReceiptItemList contains a blob of information, is there a way we can more efficiently store this data? This format would cost a lot of time for data wrangling in the future when we scale to millions of rows. It would be helpful for us to spend time discussing restructuring the current data frame so that we could work more efficiently in the future.\n",
    "\n",
    "\n",
    "\n",
    "\n",
    "3. Data Quality Issues -  Missing Value and Outliers:\n",
    "\n",
    "After drawing box plots, looking at numerical data distributions, and calculating the null value percentage, I found that there are some missing values in the Users, Brands, and Receipts tables. There is a disproportionately large number of null values in the `rewardsReceiptItemList` column. Could you let me know what the data collection process was, so we can brainstorm methods to improve data quality and reduce the number of null values in the future? There are also lots of outliers in the dataset. For example, a few transactions earned 6000+ points, and spent 4000+ dollars. Are these real transactions?\n",
    "\n",
    "Some `userId` from the Receipts table don’t match the `_id` in the Users table. This might happen because our customer/user database isn’t large enough yet. It would be helpful for us to discuss some alternative methods to collect more user information. Having sufficient customer/user data will help further customer analysis. Another data issue I want to address is that there are a lot of brandcodes in the Receipts table that do not exist in the Brands data. This could be problematic when we are doing analysis on a brand level. \n",
    "\n",
    "Let me know what your thoughts are. We can schedule a meeting to clarify the above questions and discuss further analysis.\n",
    "\n",
    "Thanks!\n",
    "\n",
    "Best Regards,\n",
    "Shana"
   ]
  },
  {
   "cell_type": "code",
   "execution_count": null,
   "id": "9a292f41-69ea-4f49-9422-0b1d02751f65",
   "metadata": {},
   "outputs": [],
   "source": []
  }
 ],
 "metadata": {
  "kernelspec": {
   "display_name": "Python 3",
   "language": "python",
   "name": "python3"
  },
  "language_info": {
   "codemirror_mode": {
    "name": "ipython",
    "version": 3
   },
   "file_extension": ".py",
   "mimetype": "text/x-python",
   "name": "python",
   "nbconvert_exporter": "python",
   "pygments_lexer": "ipython3",
   "version": "3.8.8"
  }
 },
 "nbformat": 4,
 "nbformat_minor": 5
}
